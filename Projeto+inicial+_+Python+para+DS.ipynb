{
  "cells": [
    {
      "cell_type": "markdown",
      "metadata": {
        "id": "view-in-github",
        "colab_type": "text"
      },
      "source": [
        "<a href=\"https://colab.research.google.com/github/renatamontanhana/python_2/blob/main/Projeto%2Binicial%2B_%2BPython%2Bpara%2BDS.ipynb\" target=\"_parent\"><img src=\"https://colab.research.google.com/assets/colab-badge.svg\" alt=\"Open In Colab\"/></a>"
      ]
    },
    {
      "cell_type": "markdown",
      "metadata": {
        "id": "AGc2Cf4cBwd7"
      },
      "source": [
        "# <font color=green> PYTHON PARA DATA SCIENCE\n",
        "---"
      ]
    },
    {
      "cell_type": "markdown",
      "metadata": {
        "id": "fH2br9y9CYZ8"
      },
      "source": [
        "## <font color=green> 1. BIBLIOTECAS\n",
        "---"
      ]
    },
    {
      "cell_type": "markdown",
      "metadata": {
        "id": "jjEKgfiuFzHz"
      },
      "source": [
        "## 1.1 Instalação e importação de bibliotecas\n",
        "\n",
        "Na linguagem Python utiliza-se bastante o conceito de bibliotecas como um conjunto de módulos e funções úteis para o usuário. Elas facilitam em reduzir o uso de códigos no projeto, mantendo apenas o necessário para a tarefa que desejamos realizar."
      ]
    },
    {
      "cell_type": "markdown",
      "metadata": {
        "id": "JjpazCgqDRfZ"
      },
      "source": [
        "### Instalando uma biblioteca"
      ]
    },
    {
      "cell_type": "markdown",
      "metadata": {
        "id": "_qnuIo7oIQYx"
      },
      "source": [
        "Para instalar ou atualizar uma biblioteca no Python, podemos recorrer ao `pip` que é um gerenciador de bibliotecas no Python. "
      ]
    },
    {
      "cell_type": "code",
      "execution_count": null,
      "metadata": {
        "colab": {
          "base_uri": "https://localhost:8080/"
        },
        "id": "rsxrF2fEDWcc",
        "outputId": "a34614c2-ea7e-4868-e8f2-6b955e2707bf"
      },
      "outputs": [
        {
          "name": "stdout",
          "output_type": "stream",
          "text": [
            "Looking in indexes: https://pypi.org/simple, https://us-python.pkg.dev/colab-wheels/public/simple/\n",
            "Requirement already satisfied: matplotlib in /usr/local/lib/python3.9/dist-packages (3.7.1)\n",
            "Requirement already satisfied: python-dateutil>=2.7 in /usr/local/lib/python3.9/dist-packages (from matplotlib) (2.8.2)\n",
            "Requirement already satisfied: packaging>=20.0 in /usr/local/lib/python3.9/dist-packages (from matplotlib) (23.0)\n",
            "Requirement already satisfied: cycler>=0.10 in /usr/local/lib/python3.9/dist-packages (from matplotlib) (0.11.0)\n",
            "Requirement already satisfied: fonttools>=4.22.0 in /usr/local/lib/python3.9/dist-packages (from matplotlib) (4.39.3)\n",
            "Requirement already satisfied: pyparsing>=2.3.1 in /usr/local/lib/python3.9/dist-packages (from matplotlib) (3.0.9)\n",
            "Requirement already satisfied: pillow>=6.2.0 in /usr/local/lib/python3.9/dist-packages (from matplotlib) (8.4.0)\n",
            "Requirement already satisfied: importlib-resources>=3.2.0 in /usr/local/lib/python3.9/dist-packages (from matplotlib) (5.12.0)\n",
            "Requirement already satisfied: numpy>=1.20 in /usr/local/lib/python3.9/dist-packages (from matplotlib) (1.22.4)\n",
            "Requirement already satisfied: contourpy>=1.0.1 in /usr/local/lib/python3.9/dist-packages (from matplotlib) (1.0.7)\n",
            "Requirement already satisfied: kiwisolver>=1.0.1 in /usr/local/lib/python3.9/dist-packages (from matplotlib) (1.4.4)\n",
            "Requirement already satisfied: zipp>=3.1.0 in /usr/local/lib/python3.9/dist-packages (from importlib-resources>=3.2.0->matplotlib) (3.15.0)\n",
            "Requirement already satisfied: six>=1.5 in /usr/local/lib/python3.9/dist-packages (from python-dateutil>=2.7->matplotlib) (1.16.0)\n"
          ]
        }
      ],
      "source": [
        "# Instalando a biblioteca matplotlib pelo pip\n",
        "!pip install matplotlib\n"
      ]
    },
    {
      "cell_type": "code",
      "execution_count": null,
      "metadata": {
        "colab": {
          "base_uri": "https://localhost:8080/"
        },
        "id": "s7JtnISoNHjf",
        "outputId": "6bdbd44b-c2df-4e73-d56e-d43f940b2b20"
      },
      "outputs": [
        {
          "name": "stdout",
          "output_type": "stream",
          "text": [
            "Looking in indexes: https://pypi.org/simple, https://us-python.pkg.dev/colab-wheels/public/simple/\n",
            "Requirement already satisfied: matplotlib==3.6.2 in /usr/local/lib/python3.9/dist-packages (3.6.2)\n",
            "Requirement already satisfied: pyparsing>=2.2.1 in /usr/local/lib/python3.9/dist-packages (from matplotlib==3.6.2) (3.0.9)\n",
            "Requirement already satisfied: pillow>=6.2.0 in /usr/local/lib/python3.9/dist-packages (from matplotlib==3.6.2) (8.4.0)\n",
            "Requirement already satisfied: numpy>=1.19 in /usr/local/lib/python3.9/dist-packages (from matplotlib==3.6.2) (1.22.4)\n",
            "Requirement already satisfied: python-dateutil>=2.7 in /usr/local/lib/python3.9/dist-packages (from matplotlib==3.6.2) (2.8.2)\n",
            "Requirement already satisfied: packaging>=20.0 in /usr/local/lib/python3.9/dist-packages (from matplotlib==3.6.2) (23.0)\n",
            "Requirement already satisfied: cycler>=0.10 in /usr/local/lib/python3.9/dist-packages (from matplotlib==3.6.2) (0.11.0)\n",
            "Requirement already satisfied: contourpy>=1.0.1 in /usr/local/lib/python3.9/dist-packages (from matplotlib==3.6.2) (1.0.7)\n",
            "Requirement already satisfied: kiwisolver>=1.0.1 in /usr/local/lib/python3.9/dist-packages (from matplotlib==3.6.2) (1.4.4)\n",
            "Requirement already satisfied: fonttools>=4.22.0 in /usr/local/lib/python3.9/dist-packages (from matplotlib==3.6.2) (4.39.3)\n",
            "Requirement already satisfied: six>=1.5 in /usr/local/lib/python3.9/dist-packages (from python-dateutil>=2.7->matplotlib==3.6.2) (1.16.0)\n"
          ]
        }
      ],
      "source": [
        "# Instalando uma versão específica do matplotlib\n",
        "!pip install matplotlib==3.6.2\n"
      ]
    },
    {
      "cell_type": "markdown",
      "metadata": {
        "id": "IHTmQnlXInD1"
      },
      "source": [
        "Existe também o PYPI que é um repositório de bibliotecas Python que traz as bibliotecas mais utilizadas pela comunidade junto a informações de como usar e acesso as documentações de cada uma delas.\n",
        "\n",
        "- PYPI ([https://pypi.org/](https://pypi.org/))"
      ]
    },
    {
      "cell_type": "markdown",
      "metadata": {
        "id": "A76TbnDbDehe"
      },
      "source": [
        "### Importando uma biblioteca"
      ]
    },
    {
      "cell_type": "code",
      "execution_count": null,
      "metadata": {
        "id": "IOP3GEKUDNaS"
      },
      "outputs": [],
      "source": [
        "# Importando uma biblioteca sem alias\n",
        "import matplotlib\n"
      ]
    },
    {
      "cell_type": "code",
      "execution_count": null,
      "metadata": {
        "colab": {
          "base_uri": "https://localhost:8080/",
          "height": 35
        },
        "id": "xciT3_H0DNUS",
        "outputId": "541cf02a-718a-4272-e49c-096347a9ddba"
      },
      "outputs": [
        {
          "data": {
            "application/vnd.google.colaboratory.intrinsic+json": {
              "type": "string"
            },
            "text/plain": [
              "'3.6.2'"
            ]
          },
          "execution_count": 3,
          "metadata": {},
          "output_type": "execute_result"
        }
      ],
      "source": [
        "matplotlib.__version__"
      ]
    },
    {
      "cell_type": "code",
      "execution_count": null,
      "metadata": {
        "id": "I8x0l_5uDNXE"
      },
      "outputs": [],
      "source": [
        "# Importando uma biblioteca com alias\n",
        "import matplotlib.pyplot as plt\n"
      ]
    },
    {
      "cell_type": "code",
      "execution_count": null,
      "metadata": {
        "id": "MjQYbxA-DWWT"
      },
      "outputs": [],
      "source": [
        "plt.show()"
      ]
    },
    {
      "cell_type": "code",
      "execution_count": null,
      "metadata": {
        "colab": {
          "base_uri": "https://localhost:8080/"
        },
        "id": "Nx9QsrtFXRdB",
        "outputId": "9b6f3a1c-1223-413c-ef93-b0507f3b37a1"
      },
      "outputs": [
        {
          "name": "stdout",
          "output_type": "stream",
          "text": [
            "Package                       Version\n",
            "----------------------------- --------------------\n",
            "absl-py                       1.4.0\n",
            "alabaster                     0.7.13\n",
            "albumentations                1.2.1\n",
            "altair                        4.2.2\n",
            "anyio                         3.6.2\n",
            "appdirs                       1.4.4\n",
            "argon2-cffi                   21.3.0\n",
            "argon2-cffi-bindings          21.2.0\n",
            "arviz                         0.15.1\n",
            "astropy                       5.2.2\n",
            "astunparse                    1.6.3\n",
            "attrs                         22.2.0\n",
            "audioread                     3.0.0\n",
            "autograd                      1.5\n",
            "Babel                         2.12.1\n",
            "backcall                      0.2.0\n",
            "beautifulsoup4                4.11.2\n",
            "bleach                        6.0.0\n",
            "blis                          0.7.9\n",
            "blosc2                        2.0.0\n",
            "bokeh                         2.4.3\n",
            "branca                        0.6.0\n",
            "CacheControl                  0.12.11\n",
            "cached-property               1.5.2\n",
            "cachetools                    5.3.0\n",
            "catalogue                     2.0.8\n",
            "certifi                       2022.12.7\n",
            "cffi                          1.15.1\n",
            "chardet                       4.0.0\n",
            "charset-normalizer            2.0.12\n",
            "chex                          0.1.7\n",
            "click                         8.1.3\n",
            "cloudpickle                   2.2.1\n",
            "cmake                         3.25.2\n",
            "cmdstanpy                     1.1.0\n",
            "colorcet                      3.0.1\n",
            "colorlover                    0.3.0\n",
            "community                     1.0.0b1\n",
            "confection                    0.0.4\n",
            "cons                          0.4.5\n",
            "contextlib2                   0.6.0.post1\n",
            "contourpy                     1.0.7\n",
            "convertdate                   2.4.0\n",
            "cryptography                  40.0.1\n",
            "cufflinks                     0.17.3\n",
            "cvxopt                        1.3.0\n",
            "cvxpy                         1.3.1\n",
            "cycler                        0.11.0\n",
            "cymem                         2.0.7\n",
            "Cython                        0.29.34\n",
            "dask                          2022.12.1\n",
            "datascience                   0.17.6\n",
            "db-dtypes                     1.1.1\n",
            "dbus-python                   1.2.16\n",
            "debugpy                       1.6.6\n",
            "decorator                     4.4.2\n",
            "defusedxml                    0.7.1\n",
            "distributed                   2022.12.1\n",
            "dlib                          19.24.1\n",
            "dm-tree                       0.1.8\n",
            "docutils                      0.16\n",
            "dopamine-rl                   4.0.6\n",
            "earthengine-api               0.1.347\n",
            "easydict                      1.10\n",
            "ecos                          2.0.12\n",
            "editdistance                  0.6.2\n",
            "en-core-web-sm                3.5.0\n",
            "entrypoints                   0.4\n",
            "ephem                         4.1.4\n",
            "et-xmlfile                    1.1.0\n",
            "etils                         1.1.1\n",
            "etuples                       0.3.8\n",
            "exceptiongroup                1.1.1\n",
            "fastai                        2.7.12\n",
            "fastcore                      1.5.29\n",
            "fastdownload                  0.0.7\n",
            "fastjsonschema                2.16.3\n",
            "fastprogress                  1.0.3\n",
            "fastrlock                     0.8.1\n",
            "filelock                      3.10.7\n",
            "firebase-admin                5.3.0\n",
            "Flask                         2.2.3\n",
            "flatbuffers                   23.3.3\n",
            "flax                          0.6.8\n",
            "folium                        0.14.0\n",
            "fonttools                     4.39.3\n",
            "frozendict                    2.3.6\n",
            "fsspec                        2023.3.0\n",
            "future                        0.18.3\n",
            "gast                          0.4.0\n",
            "GDAL                          3.3.2\n",
            "gdown                         4.6.6\n",
            "gensim                        4.3.1\n",
            "geographiclib                 2.0\n",
            "geopy                         2.3.0\n",
            "gin-config                    0.5.0\n",
            "glob2                         0.7\n",
            "google                        2.0.3\n",
            "google-api-core               2.11.0\n",
            "google-api-python-client      2.70.0\n",
            "google-auth                   2.17.1\n",
            "google-auth-httplib2          0.1.0\n",
            "google-auth-oauthlib          1.0.0\n",
            "google-cloud-bigquery         3.4.2\n",
            "google-cloud-bigquery-storage 2.19.1\n",
            "google-cloud-core             2.3.2\n",
            "google-cloud-datastore        2.11.1\n",
            "google-cloud-firestore        2.7.3\n",
            "google-cloud-language         2.6.1\n",
            "google-cloud-storage          2.7.0\n",
            "google-cloud-translate        3.8.4\n",
            "google-colab                  1.0.0\n",
            "google-crc32c                 1.5.0\n",
            "google-pasta                  0.2.0\n",
            "google-resumable-media        2.4.1\n",
            "googleapis-common-protos      1.59.0\n",
            "googledrivedownloader         0.4\n",
            "graphviz                      0.20.1\n",
            "greenlet                      2.0.2\n",
            "grpcio                        1.53.0\n",
            "grpcio-status                 1.48.2\n",
            "gspread                       3.4.2\n",
            "gspread-dataframe             3.0.8\n",
            "gym                           0.25.2\n",
            "gym-notices                   0.0.8\n",
            "h5netcdf                      1.1.0\n",
            "h5py                          3.8.0\n",
            "HeapDict                      1.0.1\n",
            "hijri-converter               2.2.4\n",
            "holidays                      0.22\n",
            "holoviews                     1.15.4\n",
            "html5lib                      1.1\n",
            "htmlmin                       0.1.12\n",
            "httpimport                    1.3.0\n",
            "httplib2                      0.21.0\n",
            "humanize                      4.6.0\n",
            "hyperopt                      0.2.7\n",
            "idna                          3.4\n",
            "ImageHash                     4.3.1\n",
            "imageio                       2.25.1\n",
            "imageio-ffmpeg                0.4.8\n",
            "imagesize                     1.4.1\n",
            "imbalanced-learn              0.10.1\n",
            "imgaug                        0.4.0\n",
            "importlib-metadata            6.1.0\n",
            "importlib-resources           5.12.0\n",
            "imutils                       0.5.4\n",
            "inflect                       6.0.2\n",
            "iniconfig                     2.0.0\n",
            "intel-openmp                  2023.1.0\n",
            "ipykernel                     5.5.6\n",
            "ipython                       7.34.0\n",
            "ipython-genutils              0.2.0\n",
            "ipython-sql                   0.4.1\n",
            "ipywidgets                    7.7.1\n",
            "itsdangerous                  2.1.2\n",
            "jax                           0.4.7\n",
            "jaxlib                        0.4.7+cuda11.cudnn86\n",
            "jieba                         0.42.1\n",
            "Jinja2                        3.1.2\n",
            "joblib                        1.1.1\n",
            "jsonpickle                    3.0.1\n",
            "jsonschema                    4.3.3\n",
            "jupyter-client                6.1.12\n",
            "jupyter-console               6.1.0\n",
            "jupyter_core                  5.3.0\n",
            "jupyter-server                1.23.6\n",
            "jupyterlab-pygments           0.2.2\n",
            "jupyterlab-widgets            3.0.7\n",
            "kaggle                        1.5.13\n",
            "keras                         2.12.0\n",
            "keras-vis                     0.4.1\n",
            "kiwisolver                    1.4.4\n",
            "korean-lunar-calendar         0.3.1\n",
            "langcodes                     3.3.0\n",
            "lazy_loader                   0.2\n",
            "libclang                      16.0.0\n",
            "librosa                       0.10.0.post2\n",
            "lightgbm                      3.3.5\n",
            "lit                           16.0.0\n",
            "llvmlite                      0.39.1\n",
            "locket                        1.0.0\n",
            "logical-unification           0.4.5\n",
            "LunarCalendar                 0.0.9\n",
            "lxml                          4.9.2\n",
            "Markdown                      3.4.3\n",
            "markdown-it-py                2.2.0\n",
            "MarkupSafe                    2.1.2\n",
            "matplotlib                    3.6.2\n",
            "matplotlib-inline             0.1.6\n",
            "matplotlib-venn               0.11.9\n",
            "mdurl                         0.1.2\n",
            "miniKanren                    1.0.3\n",
            "missingno                     0.5.2\n",
            "mistune                       0.8.4\n",
            "mizani                        0.8.1\n",
            "mkl                           2019.0\n",
            "ml-dtypes                     0.0.4\n",
            "mlxtend                       0.14.0\n",
            "more-itertools                9.1.0\n",
            "moviepy                       1.0.3\n",
            "mpmath                        1.3.0\n",
            "msgpack                       1.0.5\n",
            "multimethod                   1.9.1\n",
            "multipledispatch              0.6.0\n",
            "multitasking                  0.0.11\n",
            "murmurhash                    1.0.9\n",
            "music21                       8.1.0\n",
            "natsort                       8.3.1\n",
            "nbclient                      0.7.3\n",
            "nbconvert                     6.5.4\n",
            "nbformat                      5.8.0\n",
            "nest-asyncio                  1.5.6\n",
            "networkx                      3.0\n",
            "nibabel                       3.0.2\n",
            "nltk                          3.8.1\n",
            "notebook                      6.4.8\n",
            "numba                         0.56.4\n",
            "numexpr                       2.8.4\n",
            "numpy                         1.22.4\n",
            "oauth2client                  4.1.3\n",
            "oauthlib                      3.2.2\n",
            "opencv-contrib-python         4.7.0.72\n",
            "opencv-python                 4.7.0.72\n",
            "opencv-python-headless        4.7.0.72\n",
            "openpyxl                      3.0.10\n",
            "opt-einsum                    3.3.0\n",
            "optax                         0.1.4\n",
            "orbax                         0.1.7\n",
            "osqp                          0.6.2.post0\n",
            "packaging                     23.0\n",
            "palettable                    3.3.0\n",
            "pandas                        1.4.4\n",
            "pandas-datareader             0.10.0\n",
            "pandas-gbq                    0.17.9\n",
            "pandas-profiling              3.2.0\n",
            "pandocfilters                 1.5.0\n",
            "panel                         0.14.4\n",
            "param                         1.13.0\n",
            "parso                         0.8.3\n",
            "partd                         1.3.0\n",
            "pathlib                       1.0.1\n",
            "pathy                         0.10.1\n",
            "patsy                         0.5.3\n",
            "pep517                        0.13.0\n",
            "pexpect                       4.8.0\n",
            "phik                          0.12.3\n",
            "pickleshare                   0.7.5\n",
            "Pillow                        8.4.0\n",
            "pip                           22.0.4\n",
            "pip-tools                     6.6.2\n",
            "platformdirs                  3.2.0\n",
            "plotly                        5.13.1\n",
            "plotnine                      0.10.1\n",
            "pluggy                        1.0.0\n",
            "pooch                         1.6.0\n",
            "portpicker                    1.3.9\n",
            "prefetch-generator            1.0.3\n",
            "preshed                       3.0.8\n",
            "prettytable                   0.7.2\n",
            "proglog                       0.1.10\n",
            "progressbar2                  4.2.0\n",
            "prometheus-client             0.16.0\n",
            "promise                       2.3\n",
            "prompt-toolkit                3.0.38\n",
            "prophet                       1.1.2\n",
            "proto-plus                    1.22.2\n",
            "protobuf                      3.20.3\n",
            "psutil                        5.9.4\n",
            "psycopg2                      2.9.6\n",
            "ptyprocess                    0.7.0\n",
            "py-cpuinfo                    9.0.0\n",
            "py4j                          0.10.9.7\n",
            "pyarrow                       9.0.0\n",
            "pyasn1                        0.4.8\n",
            "pyasn1-modules                0.2.8\n",
            "pycocotools                   2.0.6\n",
            "pycparser                     2.21\n",
            "pyct                          0.5.0\n",
            "pydantic                      1.10.7\n",
            "pydata-google-auth            1.7.0\n",
            "pydot                         1.4.2\n",
            "pydot-ng                      2.0.0\n",
            "pydotplus                     2.0.2\n",
            "PyDrive                       1.3.1\n",
            "pyerfa                        2.0.0.3\n",
            "pygame                        2.3.0\n",
            "Pygments                      2.14.0\n",
            "PyGObject                     3.36.0\n",
            "pymc                          5.1.2\n",
            "PyMeeus                       0.5.12\n",
            "pymystem3                     0.2.0\n",
            "PyOpenGL                      3.1.6\n",
            "pyparsing                     3.0.9\n",
            "pyrsistent                    0.19.3\n",
            "PySocks                       1.7.1\n",
            "pytensor                      2.10.1\n",
            "pytest                        7.2.2\n",
            "python-apt                    0.0.0\n",
            "python-dateutil               2.8.2\n",
            "python-louvain                0.16\n",
            "python-slugify                8.0.1\n",
            "python-utils                  3.5.2\n",
            "pytz                          2022.7.1\n",
            "pytz-deprecation-shim         0.1.0.post0\n",
            "pyviz-comms                   2.2.1\n",
            "PyWavelets                    1.4.1\n",
            "PyYAML                        6.0\n",
            "pyzmq                         23.2.1\n",
            "qdldl                         0.1.5.post3\n",
            "qudida                        0.0.4\n",
            "regex                         2022.10.31\n",
            "requests                      2.27.1\n",
            "requests-oauthlib             1.3.1\n",
            "requests-unixsocket           0.2.0\n",
            "rich                          13.3.3\n",
            "rpy2                          3.5.5\n",
            "rsa                           4.9\n",
            "scikit-image                  0.19.3\n",
            "scikit-learn                  1.2.2\n",
            "scipy                         1.10.1\n",
            "scs                           3.2.2\n",
            "seaborn                       0.12.2\n",
            "Send2Trash                    1.8.0\n",
            "setuptools                    67.6.1\n",
            "shapely                       2.0.1\n",
            "six                           1.16.0\n",
            "sklearn-pandas                2.2.0\n",
            "smart-open                    6.3.0\n",
            "sniffio                       1.3.0\n",
            "snowballstemmer               2.2.0\n",
            "sortedcontainers              2.4.0\n",
            "soundfile                     0.12.1\n",
            "soupsieve                     2.4\n",
            "soxr                          0.3.4\n",
            "spacy                         3.5.1\n",
            "spacy-legacy                  3.0.12\n",
            "spacy-loggers                 1.0.4\n",
            "Sphinx                        3.5.4\n",
            "sphinxcontrib-applehelp       1.0.4\n",
            "sphinxcontrib-devhelp         1.0.2\n",
            "sphinxcontrib-htmlhelp        2.0.1\n",
            "sphinxcontrib-jsmath          1.0.1\n",
            "sphinxcontrib-qthelp          1.0.3\n",
            "sphinxcontrib-serializinghtml 1.1.5\n",
            "SQLAlchemy                    1.4.47\n",
            "sqlparse                      0.4.3\n",
            "srsly                         2.4.6\n",
            "statsmodels                   0.13.5\n",
            "sympy                         1.11.1\n",
            "tables                        3.8.0\n",
            "tabulate                      0.8.10\n",
            "tangled-up-in-unicode         0.2.0\n",
            "tblib                         1.7.0\n",
            "tenacity                      8.2.2\n",
            "tensorboard                   2.12.1\n",
            "tensorboard-data-server       0.7.0\n",
            "tensorboard-plugin-wit        1.8.1\n",
            "tensorflow                    2.12.0\n",
            "tensorflow-datasets           4.8.3\n",
            "tensorflow-estimator          2.12.0\n",
            "tensorflow-gcs-config         2.12.0\n",
            "tensorflow-hub                0.13.0\n",
            "tensorflow-io-gcs-filesystem  0.32.0\n",
            "tensorflow-metadata           1.13.0\n",
            "tensorflow-probability        0.19.0\n",
            "tensorstore                   0.1.35\n",
            "termcolor                     2.2.0\n",
            "terminado                     0.17.1\n",
            "text-unidecode                1.3\n",
            "textblob                      0.17.1\n",
            "tf-slim                       1.1.0\n",
            "thinc                         8.1.9\n",
            "threadpoolctl                 3.1.0\n",
            "tifffile                      2023.3.21\n",
            "tinycss2                      1.2.1\n",
            "toml                          0.10.2\n",
            "tomli                         2.0.1\n",
            "toolz                         0.12.0\n",
            "torch                         2.0.0+cu118\n",
            "torchaudio                    2.0.1+cu118\n",
            "torchdata                     0.6.0\n",
            "torchsummary                  1.5.1\n",
            "torchtext                     0.15.1\n",
            "torchvision                   0.15.1+cu118\n",
            "tornado                       6.2\n",
            "tqdm                          4.65.0\n",
            "traitlets                     5.7.1\n",
            "triton                        2.0.0\n",
            "tweepy                        4.13.0\n",
            "typer                         0.7.0\n",
            "typing_extensions             4.5.0\n",
            "tzdata                        2023.3\n",
            "tzlocal                       4.3\n",
            "uritemplate                   4.1.1\n",
            "urllib3                       1.26.15\n",
            "vega-datasets                 0.9.0\n",
            "visions                       0.7.4\n",
            "wasabi                        1.1.1\n",
            "wcwidth                       0.2.6\n",
            "webcolors                     1.13\n",
            "webencodings                  0.5.1\n",
            "websocket-client              1.5.1\n",
            "Werkzeug                      2.2.3\n",
            "wheel                         0.40.0\n",
            "widgetsnbextension            3.6.4\n",
            "wordcloud                     1.8.2.2\n",
            "wrapt                         1.14.1\n",
            "xarray                        2022.12.0\n",
            "xarray-einstats               0.5.1\n",
            "xgboost                       1.7.5\n",
            "xlrd                          2.0.1\n",
            "yellowbrick                   1.5\n",
            "yfinance                      0.2.14\n",
            "zict                          2.2.0\n",
            "zipp                          3.15.0\n"
          ]
        }
      ],
      "source": [
        "# Imprimindo todos os pacotes instalados no ambiente e suas versões\n",
        "!pip list"
      ]
    },
    {
      "cell_type": "markdown",
      "metadata": {
        "id": "oMxkV9-6GXwH"
      },
      "source": [
        "## 1.2 Utilizando pacotes/bibliotecas\n",
        "\n",
        "- Documentação do Python (https://docs.python.org/pt-br/3/)"
      ]
    },
    {
      "cell_type": "markdown",
      "metadata": {
        "id": "W1MHaXB2Q7tT"
      },
      "source": [
        "#### Exemplo 1: Vamos testar a biblioteca Matplotlib para um exemplo de médias de estudantes de uma classe.\n",
        "\n",
        "(https://matplotlib.org/stable/tutorials/introductory/pyplot.html)"
      ]
    },
    {
      "cell_type": "code",
      "execution_count": null,
      "metadata": {
        "id": "jKBw5ho2DWTa"
      },
      "outputs": [],
      "source": [
        "import matplotlib.pyplot as plt\n"
      ]
    },
    {
      "cell_type": "code",
      "execution_count": null,
      "metadata": {
        "id": "3Q8p9LonGo63"
      },
      "outputs": [],
      "source": [
        "estudantes = [\"João\", \"Maria\", \"José\"]\n",
        "notas = [8.5, 9, 6.5]"
      ]
    },
    {
      "cell_type": "code",
      "execution_count": null,
      "metadata": {
        "colab": {
          "base_uri": "https://localhost:8080/",
          "height": 447
        },
        "id": "yhwQqLmBRvIw",
        "outputId": "902c0ad4-4e50-4bc0-92da-2ee16589de64"
      },
      "outputs": [
        {
          "data": {
            "text/plain": [
              "<BarContainer object of 3 artists>"
            ]
          },
          "execution_count": 9,
          "metadata": {},
          "output_type": "execute_result"
        },
        {
          "data": {
            "image/png": "[encoded data removed]",
            "text/plain": [
              "<Figure size 640x480 with 1 Axes>"
            ]
          },
          "metadata": {},
          "output_type": "display_data"
        }
      ],
      "source": [
        "plt.bar(x = estudantes, height = notas)"
      ]
    },
    {
      "cell_type": "markdown",
      "metadata": {
        "id": "5G6u4ZRYRIFZ"
      },
      "source": [
        "#### Exemplo 2: Vamos selecionar aleatoriamente um aluno para apresentar o seu trabalho de ciência de dados usando a biblioteca Random\n",
        "\n",
        "(https://docs.python.org/pt-br/3/library/random.html)"
      ]
    },
    {
      "cell_type": "code",
      "execution_count": null,
      "metadata": {
        "id": "vnqGBX4DYv17"
      },
      "outputs": [],
      "source": [
        "estudantes_2 = [\"João\", \"Maria\", \"José\", \"Ana\"]"
      ]
    },
    {
      "cell_type": "code",
      "execution_count": null,
      "metadata": {
        "id": "5UYHaiWaGoy1"
      },
      "outputs": [],
      "source": [
        "# Importando uma função específica de uma biblioteca\n",
        "from random import choice\n"
      ]
    },
    {
      "cell_type": "markdown",
      "metadata": {
        "id": "N-XJrnISGpTN"
      },
      "source": [
        "<font color=green>**Dica:**</font> Você pode notar ao longo de nossa prática a importância de recorrer a documentação para aprender como utilizar um método ou pacote na linguagem Python. \n",
        "\n",
        "O método `help()`, por exemplo, retorna uma descrição sobre uma variável, método ou classe.\n",
        "\n",
        "https://docs.python.org/pt-br/3/library/functions.html?#help"
      ]
    },
    {
      "cell_type": "code",
      "execution_count": null,
      "metadata": {
        "colab": {
          "base_uri": "https://localhost:8080/"
        },
        "id": "fKv4W4PJXNOR",
        "outputId": "fc52e617-89dd-468b-9b68-91e3aba584c0"
      },
      "outputs": [
        {
          "name": "stdout",
          "output_type": "stream",
          "text": [
            "Help on method choice in module random:\n",
            "\n",
            "choice(seq) method of random.Random instance\n",
            "    Choose a random element from a non-empty sequence.\n",
            "\n"
          ]
        }
      ],
      "source": [
        "help(choice)"
      ]
    },
    {
      "cell_type": "code",
      "execution_count": null,
      "metadata": {
        "colab": {
          "base_uri": "https://localhost:8080/",
          "height": 35
        },
        "id": "Pal_mZsFcV80",
        "outputId": "88d36d96-fad0-444d-e657-25d949299362"
      },
      "outputs": [
        {
          "data": {
            "application/vnd.google.colaboratory.intrinsic+json": {
              "type": "string"
            },
            "text/plain": [
              "'Ana'"
            ]
          },
          "execution_count": 16,
          "metadata": {},
          "output_type": "execute_result"
        }
      ],
      "source": [
        "estudante = choice(estudantes_2)\n",
        "estudante"
      ]
    },
    {
      "cell_type": "code",
      "execution_count": null,
      "metadata": {
        "colab": {
          "base_uri": "https://localhost:8080/"
        },
        "id": "Z4whdat2Zzq9",
        "outputId": "fad5ca47-8655-46ae-c07b-2290b2a8ca69"
      },
      "outputs": [
        {
          "data": {
            "text/plain": [
              "[88, 65, 5, 51, 12]"
            ]
          },
          "execution_count": 17,
          "metadata": {},
          "output_type": "execute_result"
        }
      ],
      "source": [
        "from random import randrange, sample\n",
        "\n",
        "lista = []\n",
        "\n",
        "for i in range(0, 20):\n",
        "  lista.append(randrange(100))\n",
        "\n",
        "sample(lista, 5)"
      ]
    },
    {
      "cell_type": "code",
      "execution_count": null,
      "metadata": {
        "colab": {
          "base_uri": "https://localhost:8080/"
        },
        "id": "gUShNovpZ1qO",
        "outputId": "8896c4f0-4d09-48eb-b771-9de470918857"
      },
      "outputs": [
        {
          "name": "stdout",
          "output_type": "stream",
          "text": [
            "Digite um número positivo para calcular sua raiz quadrada:5\n",
            "\n",
            "A raiz quadrada de 5 é igual a 2.23606797749979\n"
          ]
        }
      ],
      "source": [
        "import math \n",
        "\n",
        "n = int(input(\"Digite um número positivo para calcular sua raiz quadrada:\"))\n",
        "print(f\"\\nA raiz quadrada de {n} é igual a {math.sqrt(n)}\")"
      ]
    },
    {
      "cell_type": "code",
      "execution_count": null,
      "metadata": {
        "colab": {
          "base_uri": "https://localhost:8080/"
        },
        "id": "hpde-310Z6la",
        "outputId": "bb88a7bd-6222-4df9-b22d-487db01cea35"
      },
      "outputs": [
        {
          "name": "stdout",
          "output_type": "stream",
          "text": [
            "Digite um número positivo para calcular sua raiz quadrada:4\n",
            "\n",
            "A raiz quadrada de 4 é igual a 2.0\n"
          ]
        }
      ],
      "source": [
        "from math import * \n",
        "\n",
        "n = int(input(\"Digite um número positivo para calcular sua raiz quadrada:\"))\n",
        "print(f\"\\nA raiz quadrada de {n} é igual a {sqrt(n)}\")"
      ]
    },
    {
      "cell_type": "code",
      "execution_count": null,
      "metadata": {
        "id": "r1gSpIAPZ_cX"
      },
      "outputs": [],
      "source": []
    },
    {
      "cell_type": "markdown",
      "metadata": {
        "id": "2hrSPmlcBwWS"
      },
      "source": [
        "## <font color=green> 2. FUNÇÕES\n",
        "---"
      ]
    },
    {
      "cell_type": "markdown",
      "metadata": {
        "id": "gC4lHsW-DREY"
      },
      "source": [
        "Na linguagem Python, as **funções** são sequências de instruções que executam tarefas específicas, podendo ser reutilizadas em diferentes partes do código. Elas podem receber parâmetros de entrada (que podemos chamar de *inputs*) e também retornar resultados."
      ]
    },
    {
      "cell_type": "markdown",
      "metadata": {
        "id": "Qr_h1_UNEzHZ"
      },
      "source": [
        "## 2.1 Built-in function\n",
        "\n",
        "O interpretador do Python já possui uma série de funções embutidas que podem ser invocadas a qualquer momento. Algumas que vamos utilizar ao longo desse curso são: type(), print(), list(), zip(), sum(), map() etc.\n",
        "\n",
        "***Documentação:***\n",
        "https://docs.python.org/pt-br/3/library/functions.html\n"
      ]
    },
    {
      "cell_type": "markdown",
      "metadata": {
        "id": "MMOJIW3TyLIB"
      },
      "source": [
        "#### **Situação 1:**\n",
        "\n",
        "A escola em que estamos construindo o nosso case de dados compartilhou os dados das notas de um estudante para que pudéssemos calcular a média deste em até uma casa decimal. \n",
        "\n",
        "Os dados recebidos correspondem a um dicionário com as chaves indicando o trimestre em questão e os valores das notas de cada trimestre do estudante em uma dada matéria."
      ]
    },
    {
      "cell_type": "code",
      "execution_count": null,
      "metadata": {
        "colab": {
          "base_uri": "https://localhost:8080/"
        },
        "id": "kRAMC_KbI6U4",
        "outputId": "6b92ae85-7a56-4ccb-8155-9d0b78f62c46"
      },
      "outputs": [
        {
          "data": {
            "text/plain": [
              "{'1º Trimestre': 8.5, '2º Trimestre': 7.5, '3º Trimestre': 9}"
            ]
          },
          "execution_count": 1,
          "metadata": {},
          "output_type": "execute_result"
        }
      ],
      "source": [
        "# Notas do(a) estudante\n",
        "notas = {'1º Trimestre': 8.5, '2º Trimestre': 7.5, '3º Trimestre': 9}\n",
        "notas"
      ]
    },
    {
      "cell_type": "code",
      "execution_count": null,
      "metadata": {
        "colab": {
          "base_uri": "https://localhost:8080/"
        },
        "id": "S7vIqSZJI6P4",
        "outputId": "d12590c5-416f-48f4-f8f8-b84f3ad79973"
      },
      "outputs": [
        {
          "data": {
            "text/plain": [
              "25.0"
            ]
          },
          "execution_count": 8,
          "metadata": {},
          "output_type": "execute_result"
        }
      ],
      "source": [
        "# Calculando a soma\n",
        "soma = 0\n",
        "\n",
        "for nota in notas.values():\n",
        "    soma += nota\n",
        "\n",
        "soma"
      ]
    },
    {
      "cell_type": "code",
      "execution_count": null,
      "metadata": {
        "colab": {
          "base_uri": "https://localhost:8080/"
        },
        "id": "yr9YSRwNPF9S",
        "outputId": "d5d6ad7e-3f4e-4838-daa5-1eb5c8616495"
      },
      "outputs": [
        {
          "data": {
            "text/plain": [
              "25.0"
            ]
          },
          "execution_count": 9,
          "metadata": {},
          "output_type": "execute_result"
        }
      ],
      "source": [
        "# Usando a função embutida sum()\n",
        "somatorio = sum(notas.values())\n",
        "somatorio\n"
      ]
    },
    {
      "cell_type": "code",
      "execution_count": null,
      "metadata": {
        "colab": {
          "base_uri": "https://localhost:8080/"
        },
        "id": "Zn6XAAdQI6Fw",
        "outputId": "358807b1-77a2-49ba-f3e4-510245e92b4f"
      },
      "outputs": [
        {
          "data": {
            "text/plain": [
              "3"
            ]
          },
          "execution_count": 11,
          "metadata": {},
          "output_type": "execute_result"
        }
      ],
      "source": [
        "# Usando a função embutida len()\n",
        "qtd_notas = len(notas)\n",
        "qtd_notas\n"
      ]
    },
    {
      "cell_type": "code",
      "execution_count": null,
      "metadata": {
        "colab": {
          "base_uri": "https://localhost:8080/"
        },
        "id": "iUx5UixrNsQh",
        "outputId": "2cfde67c-6a29-419c-85d1-fac90b7558b3"
      },
      "outputs": [
        {
          "data": {
            "text/plain": [
              "8.333333333333334"
            ]
          },
          "execution_count": 12,
          "metadata": {},
          "output_type": "execute_result"
        }
      ],
      "source": [
        "# calculando a média\n",
        "media = somatorio / qtd_notas\n",
        "media\n"
      ]
    },
    {
      "cell_type": "markdown",
      "metadata": {
        "id": "JD2z3LW8312E"
      },
      "source": [
        "*Arredondar a média usando round():*\n",
        "\n",
        "https://docs.python.org/pt-br/3/library/functions.html#round"
      ]
    },
    {
      "cell_type": "code",
      "execution_count": null,
      "metadata": {
        "id": "OAZC5RwkSwWh"
      },
      "outputs": [],
      "source": [
        "round?"
      ]
    },
    {
      "cell_type": "code",
      "execution_count": null,
      "metadata": {
        "colab": {
          "base_uri": "https://localhost:8080/"
        },
        "id": "cJ1C2Pg-4PNq",
        "outputId": "db360ff5-9243-4bb3-bc57-663c942bf320"
      },
      "outputs": [
        {
          "data": {
            "text/plain": [
              "8.3"
            ]
          },
          "execution_count": 14,
          "metadata": {},
          "output_type": "execute_result"
        }
      ],
      "source": [
        "media = somatorio / qtd_notas\n",
        "media = round(media,1)\n",
        "media"
      ]
    },
    {
      "cell_type": "code",
      "execution_count": null,
      "metadata": {
        "colab": {
          "base_uri": "https://localhost:8080/"
        },
        "id": "Ey_6DkSxvH28",
        "outputId": "67ffd588-00f9-4903-899d-d4f9c5c66bab"
      },
      "outputs": [
        {
          "name": "stdout",
          "output_type": "stream",
          "text": [
            "Digite o peso, em quilogramas: 71\n",
            "Digite a altura, em metros: 1.65\n",
            "O IMC da pessoa é: 26.08\n"
          ]
        }
      ],
      "source": [
        "peso = float(input(\"Digite o peso, em quilogramas: \"))\n",
        "altura = float(input(\"Digite a altura, em metros: \"))\n",
        "\n",
        "imc = round(peso / pow(altura, 2), 2)\n",
        "\n",
        "print(f\"O IMC da pessoa é: {imc}\")"
      ]
    },
    {
      "cell_type": "markdown",
      "metadata": {
        "id": "NCUSezOJIdfy"
      },
      "source": [
        "## 2.2 Criando funções"
      ]
    },
    {
      "cell_type": "markdown",
      "metadata": {
        "id": "QrTAXwghsg6s"
      },
      "source": [
        "Depois de explorarmos a built-in functions e aprendermos como utilizar algumas delas, você pode se deparar com a necessidade de resolver um problema específico em que elas não serão o suficiente.\n",
        "\n",
        "Nesse ponto, precisaremos criar as nossas próprias funções, ainda mais se precisarmos utilizá-las em mais partes de nossos códigos."
      ]
    },
    {
      "cell_type": "markdown",
      "metadata": {
        "id": "zxyXiX462A_X"
      },
      "source": [
        "### Funções sem parâmetros\n",
        "\n",
        "#### Formato padrão:\n",
        "\n",
        "```python\n",
        "def <nome>():\n",
        "  <instruções>\n",
        "```"
      ]
    },
    {
      "cell_type": "code",
      "execution_count": null,
      "metadata": {
        "id": "zQtsnpyCzHfb"
      },
      "outputs": [],
      "source": [
        "def media():\n",
        "  calculo = (10 +9 +8) / 3\n",
        "  print(calculo)"
      ]
    },
    {
      "cell_type": "code",
      "execution_count": null,
      "metadata": {
        "colab": {
          "base_uri": "https://localhost:8080/"
        },
        "id": "Eq4U8TPq0xOv",
        "outputId": "fa6fd130-429e-4381-8e0e-9e361d5ddb9b"
      },
      "outputs": [
        {
          "name": "stdout",
          "output_type": "stream",
          "text": [
            "9.0\n"
          ]
        }
      ],
      "source": [
        "media()"
      ]
    },
    {
      "cell_type": "markdown",
      "metadata": {
        "id": "o9AR_DNDFKSD"
      },
      "source": [
        "### Funções com parâmetros\n",
        "\n",
        "#### Formato padrão:\n",
        "\n",
        "```python\n",
        "def <nome>(<param_1>, <param_2>, ..., <param_n>):\n",
        "  <instruções>\n",
        "```"
      ]
    },
    {
      "cell_type": "code",
      "execution_count": null,
      "metadata": {
        "id": "zVIvbjeRDR24"
      },
      "outputs": [],
      "source": [
        "def media(nota_1,nota_2,nota_3):\n",
        "  calculo = (nota_1+nota_2+nota_3)/3\n",
        "  print(calculo)"
      ]
    },
    {
      "cell_type": "code",
      "execution_count": null,
      "metadata": {
        "colab": {
          "base_uri": "https://localhost:8080/"
        },
        "id": "c6H9lfBn3FuA",
        "outputId": "82febc76-beeb-4976-d255-ace40514037b"
      },
      "outputs": [
        {
          "name": "stdout",
          "output_type": "stream",
          "text": [
            "6.0\n"
          ]
        }
      ],
      "source": [
        "media(3,6,9)"
      ]
    },
    {
      "cell_type": "code",
      "execution_count": null,
      "metadata": {
        "colab": {
          "base_uri": "https://localhost:8080/"
        },
        "id": "38M9GYEVQp_x",
        "outputId": "f0680a32-4c9f-48b2-d7a2-9c205c92cc06"
      },
      "outputs": [
        {
          "name": "stdout",
          "output_type": "stream",
          "text": [
            "7.0\n"
          ]
        }
      ],
      "source": [
        "nota1=8\n",
        "nota2=7\n",
        "nota3=6\n",
        "\n",
        "media(nota1,nota2,nota3)\n"
      ]
    },
    {
      "cell_type": "markdown",
      "metadata": {
        "id": "-Umx7n134suz"
      },
      "source": [
        "#### **Situação 2:**\n",
        "\n",
        "Recebemos uma demanda de calcular a média de um estudante a partir de uma lista, sendo possível alterar a quantidade de notas, sem impedir que o cálculo seja refeito.\n",
        "\n",
        "Os dados recebidos, desta vez, correspondem a uma lista contendo apenas as notas de um estudante em uma dada matéria.\n",
        "\n",
        "**Vamos resolver esse desafio?**\n",
        "\n",
        "Para facilitar o nosso entendimento do processo vamos aplicar às notas de apenas um estudante, mas você pode testar outros casos para treinar."
      ]
    },
    {
      "cell_type": "code",
      "execution_count": null,
      "metadata": {
        "id": "9AiWnXLuzc1P"
      },
      "outputs": [],
      "source": [
        "# Notas do(a) estudante\n",
        "notas = [8.5, 9.0, 6.0, 10.0]"
      ]
    },
    {
      "cell_type": "code",
      "execution_count": null,
      "metadata": {
        "id": "bEf8Evf1DR0I"
      },
      "outputs": [],
      "source": [
        "def media(lista):\n",
        "  calculo = sum(lista) / len(lista)\n",
        "  print(calculo)"
      ]
    },
    {
      "cell_type": "code",
      "execution_count": null,
      "metadata": {
        "colab": {
          "base_uri": "https://localhost:8080/"
        },
        "id": "R5ylO_vW6k8C",
        "outputId": "fbe1773a-525b-41e3-bf10-5fadfd1c29fa"
      },
      "outputs": [
        {
          "name": "stdout",
          "output_type": "stream",
          "text": [
            "8.375\n"
          ]
        }
      ],
      "source": [
        "media(notas)"
      ]
    },
    {
      "cell_type": "code",
      "execution_count": null,
      "metadata": {
        "colab": {
          "base_uri": "https://localhost:8080/"
        },
        "id": "9wNMcPOK_T9F",
        "outputId": "407b7c04-d422-431c-9ef5-b5bbb46d6be8"
      },
      "outputs": [
        {
          "name": "stdout",
          "output_type": "stream",
          "text": [
            "8.375\n"
          ]
        }
      ],
      "source": [
        "resultado = media(notas)"
      ]
    },
    {
      "cell_type": "code",
      "execution_count": null,
      "metadata": {
        "id": "4xnmTQ9w_ZTi"
      },
      "outputs": [],
      "source": [
        "resultado"
      ]
    },
    {
      "cell_type": "code",
      "execution_count": null,
      "metadata": {
        "colab": {
          "base_uri": "https://localhost:8080/"
        },
        "id": "x6m24TcG_W3w",
        "outputId": "c9944813-b4b5-4ab6-8daa-60736dcc67b0"
      },
      "outputs": [
        {
          "data": {
            "text/plain": [
              "NoneType"
            ]
          },
          "execution_count": 13,
          "metadata": {},
          "output_type": "execute_result"
        }
      ],
      "source": [
        "type(resultado)"
      ]
    },
    {
      "cell_type": "code",
      "execution_count": null,
      "metadata": {
        "id": "T1TjeNWp1ydr"
      },
      "outputs": [],
      "source": [
        "x = 7\n",
        "\n",
        "def soma():\n",
        "  y = 9\n",
        "  print(x + y)"
      ]
    },
    {
      "cell_type": "code",
      "execution_count": null,
      "metadata": {
        "colab": {
          "base_uri": "https://localhost:8080/"
        },
        "id": "zy82h-Be18Pd",
        "outputId": "ae556d9f-d682-4db3-e6cc-56ad147d2f64"
      },
      "outputs": [
        {
          "name": "stdout",
          "output_type": "stream",
          "text": [
            "16\n"
          ]
        }
      ],
      "source": [
        "soma()"
      ]
    },
    {
      "cell_type": "code",
      "execution_count": null,
      "metadata": {
        "colab": {
          "base_uri": "https://localhost:8080/",
          "height": 166
        },
        "id": "99Tg0DCS2C2x",
        "outputId": "65e9b430-f26a-4dfc-a329-dd47ab5464bc"
      },
      "outputs": [
        {
          "ename": "NameError",
          "evalue": "ignored",
          "output_type": "error",
          "traceback": [
            "\u001b[0;31m---------------------------------------------------------------------------\u001b[0m",
            "\u001b[0;31mNameError\u001b[0m                                 Traceback (most recent call last)",
            "\u001b[0;32m<ipython-input-16-f09a7b03ddbf>\u001b[0m in \u001b[0;36m<cell line: 1>\u001b[0;34m()\u001b[0m\n\u001b[0;32m----> 1\u001b[0;31m \u001b[0mprint\u001b[0m\u001b[0;34m(\u001b[0m\u001b[0mx\u001b[0m \u001b[0;34m+\u001b[0m \u001b[0my\u001b[0m\u001b[0;34m)\u001b[0m\u001b[0;34m\u001b[0m\u001b[0;34m\u001b[0m\u001b[0m\n\u001b[0m",
            "\u001b[0;31mNameError\u001b[0m: name 'y' is not defined"
          ]
        }
      ],
      "source": [
        "print(x + y)"
      ]
    },
    {
      "cell_type": "markdown",
      "metadata": {
        "id": "skMq7d0_xHND"
      },
      "source": [
        "<font color=red>**Atenção!**</font>\n",
        "Quando utilizamos funções precisamos prestar atenção a uma propriedade chamada **escopo de uma função**\n",
        "\n",
        "Ela determina onde uma variável pode ser utilizada dentro do código. Por exemplo, uma variável criada dentro de uma função existirá apenas dentro da função. Ou seja, encerrando a execução da função, a variável não estará disponível para o usuário no restante do código. "
      ]
    },
    {
      "cell_type": "code",
      "execution_count": null,
      "metadata": {
        "id": "5FBWT2_gzIzR"
      },
      "outputs": [],
      "source": []
    },
    {
      "cell_type": "markdown",
      "metadata": {
        "id": "-oDFGKcA52kG"
      },
      "source": [
        "## 2.3 Funções que retornam valores\n",
        "\n",
        "#### Formato padrão:\n",
        "\n",
        "```python\n",
        "def <nome>(<param_1>, <param_2>, ..., <param_n>):\n",
        "  <instruções>\n",
        "  return resultado\n",
        "```"
      ]
    },
    {
      "cell_type": "markdown",
      "metadata": {
        "id": "DxvT_uItbQ-q"
      },
      "source": [
        "Retomando a atividade anterior, podemos retornar e salvar o valor da média da seguinte forma:"
      ]
    },
    {
      "cell_type": "code",
      "execution_count": null,
      "metadata": {
        "id": "GlWdnX7Ubgl3"
      },
      "outputs": [],
      "source": [
        "# Notas do(a) estudante\n",
        "notas = [8.5, 9.0, 6.0, 10.0]"
      ]
    },
    {
      "cell_type": "code",
      "execution_count": null,
      "metadata": {
        "id": "B6yqoM7KAKKK"
      },
      "outputs": [],
      "source": [
        "def media(lista):\n",
        "  calculo = sum(lista) / len(lista)\n",
        "  return calculo"
      ]
    },
    {
      "cell_type": "code",
      "execution_count": null,
      "metadata": {
        "id": "GlqPKe3_AT0Q"
      },
      "outputs": [],
      "source": [
        "resultado = media(notas)"
      ]
    },
    {
      "cell_type": "code",
      "execution_count": null,
      "metadata": {
        "colab": {
          "base_uri": "https://localhost:8080/"
        },
        "id": "E81HZh8rAYJz",
        "outputId": "ff7e53df-a517-4e41-8be8-3992bd65ff77"
      },
      "outputs": [
        {
          "data": {
            "text/plain": [
              "8.375"
            ]
          },
          "execution_count": 20,
          "metadata": {},
          "output_type": "execute_result"
        }
      ],
      "source": [
        "resultado"
      ]
    },
    {
      "cell_type": "markdown",
      "metadata": {
        "id": "_awyOKOH8OOi"
      },
      "source": [
        "#### **Situação 3:**\n",
        "\n",
        "Recebemos uma nova demanda, desta vez, de calcular a média de um estudante a partir de uma lista e retornar tanto a média quanto a situação do estudante (\"Aprovado(a)\" se a nota for maior ou igual a 6.0, caso contrário, será \"Reprovado(a)\"). \n",
        "\n",
        "Além disso, precisamos exibir um pequeno texto em que indicamos a média do(a) estudante e qual a situação. Os dados recebidos correspondem a uma lista contendo apenas as notas de um estudante em uma dada matéria.\n",
        "\n",
        "**Vamos resolver esse desafio?**\n",
        "\n",
        "Para facilitar o nosso entendimento do processo vamos aplicar as notas de apenas um estudante, mas você pode testar outros casos para treinar."
      ]
    },
    {
      "cell_type": "code",
      "execution_count": null,
      "metadata": {
        "id": "8LmWZ2U9-Zv3"
      },
      "outputs": [],
      "source": [
        "# Notas do(a) estudante\n",
        "notas = [6.0, 7.0, 9.0, 5.0]"
      ]
    },
    {
      "cell_type": "code",
      "execution_count": null,
      "metadata": {
        "id": "bJ9KmlHv5o0i"
      },
      "outputs": [],
      "source": [
        "def boletim(lista):\n",
        "  media = sum(lista) / len(lista)\n",
        "\n",
        "  if media>=6:\n",
        "    situacao = \"Aprovado(a)\"\n",
        "  else:\n",
        "    situacao = \"Reprovado(a)\"\n",
        "\n",
        "  return(media,situacao)"
      ]
    },
    {
      "cell_type": "code",
      "execution_count": null,
      "metadata": {
        "colab": {
          "base_uri": "https://localhost:8080/"
        },
        "id": "rIiA2cpB-squ",
        "outputId": "dd3b24b9-4fff-4819-bbcd-8de9f4de22ff"
      },
      "outputs": [
        {
          "data": {
            "text/plain": [
              "(6.75, 'Aprovado(a)')"
            ]
          },
          "execution_count": 25,
          "metadata": {},
          "output_type": "execute_result"
        }
      ],
      "source": [
        "boletim(notas)"
      ]
    },
    {
      "cell_type": "code",
      "execution_count": null,
      "metadata": {
        "id": "_xf7bR6JBjD8"
      },
      "outputs": [],
      "source": [
        "media,situacao = boletim(notas)"
      ]
    },
    {
      "cell_type": "code",
      "execution_count": null,
      "metadata": {
        "colab": {
          "base_uri": "https://localhost:8080/"
        },
        "id": "5ixwo3o3CdQ0",
        "outputId": "7b3a7bf3-dabf-4580-e05b-0fa2eaf8aac3"
      },
      "outputs": [
        {
          "data": {
            "text/plain": [
              "6.75"
            ]
          },
          "execution_count": 27,
          "metadata": {},
          "output_type": "execute_result"
        }
      ],
      "source": [
        "media"
      ]
    },
    {
      "cell_type": "code",
      "execution_count": null,
      "metadata": {
        "colab": {
          "base_uri": "https://localhost:8080/",
          "height": 35
        },
        "id": "VFQacFSICeaO",
        "outputId": "1705ebd2-7473-48fb-d73c-be3f885b7512"
      },
      "outputs": [
        {
          "data": {
            "application/vnd.google.colaboratory.intrinsic+json": {
              "type": "string"
            },
            "text/plain": [
              "'Aprovado(a)'"
            ]
          },
          "execution_count": 28,
          "metadata": {},
          "output_type": "execute_result"
        }
      ],
      "source": [
        "situacao"
      ]
    },
    {
      "cell_type": "code",
      "execution_count": null,
      "metadata": {
        "colab": {
          "base_uri": "https://localhost:8080/"
        },
        "id": "ecFviUvOCgXF",
        "outputId": "c45de33b-8280-445d-cf49-64af1450217f"
      },
      "outputs": [
        {
          "name": "stdout",
          "output_type": "stream",
          "text": [
            "O(a) estudante atingiu uma média de 6.75 e foi Aprovado(a).\n"
          ]
        }
      ],
      "source": [
        "print(f'O(a) estudante atingiu uma média de {media} e foi {situacao}.')"
      ]
    },
    {
      "cell_type": "code",
      "execution_count": null,
      "metadata": {
        "id": "WpgjtmKWiwvG"
      },
      "outputs": [],
      "source": [
        "def <nome>(<param>: <tipo_param>) -> <tipo_retorno>:\n",
        "  <instruções>\n",
        "  return resultado"
      ]
    },
    {
      "cell_type": "code",
      "execution_count": null,
      "metadata": {
        "id": "PlvnoPjKiikd"
      },
      "outputs": [],
      "source": [
        "# a nossa função recebe uma lista do tipo list e retorna uma variável do tipo float\n",
        "def media(lista: list) -> float:\n",
        "  calculo = sum(lista) / len(lista)\n",
        "  return calculo"
      ]
    },
    {
      "cell_type": "code",
      "execution_count": null,
      "metadata": {
        "id": "aBiEojOsjGgS"
      },
      "outputs": [],
      "source": [
        "# a nossa função recebe uma lista do tipo list e retorna uma variável do tipo float\n",
        "# caso não recebe nenhum valor de parâmetro será passada uma lista com um único\n",
        "# elemento sendo ele zero\n",
        "def media(lista: list=[0]) -> float:\n",
        "  calculo = sum(lista) / len(lista)\n",
        "  return calculo"
      ]
    },
    {
      "cell_type": "code",
      "execution_count": null,
      "metadata": {
        "colab": {
          "base_uri": "https://localhost:8080/"
        },
        "id": "VSRLNArzjWEF",
        "outputId": "c5fe854d-90f8-4f59-d8cf-35694853a595"
      },
      "outputs": [
        {
          "data": {
            "text/plain": [
              "0.0"
            ]
          },
          "execution_count": 4,
          "metadata": {},
          "output_type": "execute_result"
        }
      ],
      "source": [
        "media()"
      ]
    },
    {
      "cell_type": "code",
      "execution_count": null,
      "metadata": {
        "id": "QBVsjSPmoAUZ"
      },
      "outputs": [],
      "source": [
        "def <nome>(<param_1>, <param_2>, ..., <param_n>):\n",
        "    ''' Texto documentando sua função...\n",
        "    '''\n",
        "  <instruções>\n",
        "  return resultado"
      ]
    },
    {
      "cell_type": "code",
      "execution_count": null,
      "metadata": {
        "id": "pyZzaTo0oCod"
      },
      "outputs": [],
      "source": [
        "def media(lista: list=[0]) -> float:\n",
        "  ''' Função para calcular a média de notas passadas por uma lista\n",
        "\n",
        "  lista: list, default [0]\n",
        "    Lista com as notas para calcular a média\n",
        "  return = calculo: float\n",
        "    Média calculada\n",
        "  '''\n",
        "  calculo = sum(lista) / len(lista)\n",
        "  return calculo"
      ]
    },
    {
      "cell_type": "code",
      "execution_count": null,
      "metadata": {
        "colab": {
          "base_uri": "https://localhost:8080/"
        },
        "id": "6NPMAOqHoPIT",
        "outputId": "059137b0-7eed-4612-f553-3dcdde003514"
      },
      "outputs": [
        {
          "name": "stdout",
          "output_type": "stream",
          "text": [
            "Help on function media in module __main__:\n",
            "\n",
            "media(lista: list = [0]) -> float\n",
            "    Função para calcular a média de notas passadas por uma lista\n",
            "    \n",
            "    lista: list, default [0]\n",
            "      Lista com as notas para calcular a média\n",
            "    return = calculo: float\n",
            "      Média calculada\n",
            "\n"
          ]
        }
      ],
      "source": [
        "help(media)"
      ]
    },
    {
      "cell_type": "markdown",
      "metadata": {
        "id": "hwYYRpkZMft5"
      },
      "source": [
        "## 2.4 Funções lambda\n",
        "\n",
        "Também chamadas de funções anônimas, são funções que não precisam ser definidas, ou seja não possuem um nome, e descrevem em uma única linha os comandos que desejamos aplicar. \n",
        "\n",
        "https://docs.python.org/pt-br/3/reference/expressions.html?#lambda\n",
        "\n",
        "#### Formato padrão:\n",
        "\n",
        "```python\n",
        "lambda <variavel>: <expressao>\n",
        "```"
      ]
    },
    {
      "cell_type": "markdown",
      "metadata": {
        "id": "AuRWyNXYgD_b"
      },
      "source": [
        "#### **Situação 4:**\n",
        "\n",
        "Nesta nova demanda, precisamos criar uma calculadora simples da média ponderada de notas de uma dada matéria. Vamos requisitar ao usuário a entrada das 3 notas (N1, N2, N3) do estudante e devolver a média ponderada deste estudante. Os pesos das notas são de, respectivamente 3, 2, 5.\n",
        "\n",
        "Precisamos exibir um pequeno texto em que indicamos a média do(a) estudante.\n",
        "\n",
        "**Vamos resolver esse desafio?**"
      ]
    },
    {
      "cell_type": "code",
      "execution_count": null,
      "metadata": {
        "colab": {
          "base_uri": "https://localhost:8080/"
        },
        "id": "4EjJD3w3lbzJ",
        "outputId": "da62a2ad-9595-414a-963b-9b0c61a85db2"
      },
      "outputs": [
        {
          "name": "stdout",
          "output_type": "stream",
          "text": [
            "Digite a nota do(a) estudante: 8\n"
          ]
        },
        {
          "data": {
            "text/plain": [
              "8.5"
            ]
          },
          "execution_count": 8,
          "metadata": {},
          "output_type": "execute_result"
        }
      ],
      "source": [
        "# Comparando uma função de qualitativo no formato de função para função anônima\n",
        "nota = float(input(\"Digite a nota do(a) estudante: \"))\n",
        "\n",
        "def qualitativo(x):\n",
        "  return x + 0.5\n",
        "\n",
        "qualitativo(nota)\n"
      ]
    },
    {
      "cell_type": "code",
      "execution_count": null,
      "metadata": {
        "colab": {
          "base_uri": "https://localhost:8080/"
        },
        "id": "vZjaUmaJFp3D",
        "outputId": "16e8381f-bc9a-41a8-f4ff-2e34f863c0e4"
      },
      "outputs": [
        {
          "name": "stdout",
          "output_type": "stream",
          "text": [
            "Digite a nota do(a) estudante: 8\n"
          ]
        },
        {
          "data": {
            "text/plain": [
              "8.5"
            ]
          },
          "execution_count": 9,
          "metadata": {},
          "output_type": "execute_result"
        }
      ],
      "source": [
        "# Testando a mesma função para uma função lambda\n",
        "nota = float(input(\"Digite a nota do(a) estudante: \"))\n",
        "\n",
        "qualitativo = lambda x: x+0.5\n",
        "\n",
        "qualitativo(nota)\n",
        "\n"
      ]
    },
    {
      "cell_type": "markdown",
      "metadata": {
        "id": "vdKk3DRBmtUE"
      },
      "source": [
        "**Partindo para nosso problema:**"
      ]
    },
    {
      "cell_type": "code",
      "execution_count": null,
      "metadata": {
        "colab": {
          "base_uri": "https://localhost:8080/"
        },
        "id": "azStYQgKnsZn",
        "outputId": "83714bb6-ee12-44d8-886b-d08bab4fb495"
      },
      "outputs": [
        {
          "name": "stdout",
          "output_type": "stream",
          "text": [
            "Digite a 1ª nota do(a) estudante: 8\n",
            "Digite a 2ª nota do(a) estudante: 5\n",
            "Digite a 3ª nota do(a) estudante: 9\n"
          ]
        },
        {
          "data": {
            "text/plain": [
              "7.9"
            ]
          },
          "execution_count": 11,
          "metadata": {},
          "output_type": "execute_result"
        }
      ],
      "source": [
        "# Recebendo as notas e calculando a média ponderável\n",
        "N1 = float(input(\"Digite a 1ª nota do(a) estudante: \"))\n",
        "N2 = float(input(\"Digite a 2ª nota do(a) estudante: \"))\n",
        "N3 = float(input(\"Digite a 3ª nota do(a) estudante: \"))\n",
        "\n",
        "media_ponderavel = lambda x,y,z:(x*3+y*2+z*5)/10\n",
        "media_estudante = media_ponderavel(N1,N2,N3)\n",
        "media_estudante"
      ]
    },
    {
      "cell_type": "code",
      "execution_count": null,
      "metadata": {
        "colab": {
          "base_uri": "https://localhost:8080/"
        },
        "id": "Ek1s_FkjkQrW",
        "outputId": "53d1130e-0547-4a26-90a8-9537e30337f5"
      },
      "outputs": [
        {
          "name": "stdout",
          "output_type": "stream",
          "text": [
            "O(a) estudante atingiu uma média de 7.9\n"
          ]
        }
      ],
      "source": [
        "# Exibindo a média\n",
        "print(f'O(a) estudante atingiu uma média de {media_estudante}')"
      ]
    },
    {
      "cell_type": "markdown",
      "metadata": {
        "id": "SOK4BC4mmKbG"
      },
      "source": [
        "### Mapeando valores\n",
        "\n",
        "#### Formato padrão:\n",
        "\n",
        "```python\n",
        "map(<lambda function>, <iterador>)\n",
        "```"
      ]
    },
    {
      "cell_type": "markdown",
      "metadata": {
        "id": "1qk0gLdfFcbf"
      },
      "source": [
        "#### **Situação 5:**\n",
        "\n",
        "Recebemos mais uma demanda, desta vez, para criar uma pequena função que pudesse adicionar qualitativo (pontuação extra) às notas do trimestre dos estudantes da turma que ganhou a gincana de programação promovida pela escola. Cada estudante receberá o qualitativo de 0.5 acrescido à média.\n",
        "\n",
        "Os dados recebidos correspondem a uma lista contendo as notas de alguns estudantes e uma variável com o qualitativo recebido.\n",
        "\n",
        "**Vamos resolver esse desafio?**\n",
        "\n",
        "Para facilitar o nosso entendimento do processo vamos aplicar o qualitativo às notas de 5 estudantes, mas você pode testar outros casos para treinar."
      ]
    },
    {
      "cell_type": "code",
      "execution_count": null,
      "metadata": {
        "id": "RdoaWhuVI_OB"
      },
      "outputs": [],
      "source": [
        "# Notas do(a) estudante\n",
        "notas = [6.0, 7.0, 9.0, 5.5, 8.0]\n",
        "qualitativo = 0.5"
      ]
    },
    {
      "cell_type": "code",
      "execution_count": null,
      "metadata": {
        "colab": {
          "base_uri": "https://localhost:8080/",
          "height": 253
        },
        "id": "nC6zW89lHI4K",
        "outputId": "70f6d9e6-4ebf-4b3b-918d-2ca9e143d550"
      },
      "outputs": [
        {
          "ename": "TypeError",
          "evalue": "ignored",
          "output_type": "error",
          "traceback": [
            "\u001b[0;31m---------------------------------------------------------------------------\u001b[0m",
            "\u001b[0;31mTypeError\u001b[0m                                 Traceback (most recent call last)",
            "\u001b[0;32m<ipython-input-14-17fd4215754a>\u001b[0m in \u001b[0;36m<cell line: 2>\u001b[0;34m()\u001b[0m\n\u001b[1;32m      1\u001b[0m \u001b[0mnotas_atualizadas\u001b[0m \u001b[0;34m=\u001b[0m \u001b[0;32mlambda\u001b[0m \u001b[0mx\u001b[0m\u001b[0;34m:\u001b[0m \u001b[0mx\u001b[0m\u001b[0;34m+\u001b[0m\u001b[0mqualitativo\u001b[0m\u001b[0;34m\u001b[0m\u001b[0;34m\u001b[0m\u001b[0m\n\u001b[0;32m----> 2\u001b[0;31m \u001b[0mnotas_atualizadas\u001b[0m\u001b[0;34m(\u001b[0m\u001b[0mnotas\u001b[0m\u001b[0;34m)\u001b[0m\u001b[0;34m\u001b[0m\u001b[0;34m\u001b[0m\u001b[0m\n\u001b[0m",
            "\u001b[0;32m<ipython-input-14-17fd4215754a>\u001b[0m in \u001b[0;36m<lambda>\u001b[0;34m(x)\u001b[0m\n\u001b[0;32m----> 1\u001b[0;31m \u001b[0mnotas_atualizadas\u001b[0m \u001b[0;34m=\u001b[0m \u001b[0;32mlambda\u001b[0m \u001b[0mx\u001b[0m\u001b[0;34m:\u001b[0m \u001b[0mx\u001b[0m\u001b[0;34m+\u001b[0m\u001b[0mqualitativo\u001b[0m\u001b[0;34m\u001b[0m\u001b[0;34m\u001b[0m\u001b[0m\n\u001b[0m\u001b[1;32m      2\u001b[0m \u001b[0mnotas_atualizadas\u001b[0m\u001b[0;34m(\u001b[0m\u001b[0mnotas\u001b[0m\u001b[0;34m)\u001b[0m\u001b[0;34m\u001b[0m\u001b[0;34m\u001b[0m\u001b[0m\n",
            "\u001b[0;31mTypeError\u001b[0m: can only concatenate list (not \"float\") to list"
          ]
        }
      ],
      "source": [
        "notas_atualizadas = lambda x: x+qualitativo\n",
        "notas_atualizadas(notas)"
      ]
    },
    {
      "cell_type": "code",
      "execution_count": null,
      "metadata": {
        "colab": {
          "base_uri": "https://localhost:8080/"
        },
        "id": "iM2jXtC8m1zc",
        "outputId": "aece96e0-4550-455d-cecb-151c02874c79"
      },
      "outputs": [
        {
          "data": {
            "text/plain": [
              "<map at 0x7f16a5f8f0a0>"
            ]
          },
          "execution_count": 15,
          "metadata": {},
          "output_type": "execute_result"
        }
      ],
      "source": [
        "# Não conseguimos aplicar o lambda em listas direto, é necessário \n",
        "# utilizarmos junto a ela a função map\n",
        "notas_atualizadas = map(lambda x: x+qualitativo, notas)\n",
        "notas_atualizadas\n"
      ]
    },
    {
      "cell_type": "code",
      "execution_count": null,
      "metadata": {
        "id": "dAq9-TNTm1wf"
      },
      "outputs": [],
      "source": [
        "notas_atualizadas = list(notas_atualizadas)"
      ]
    },
    {
      "cell_type": "code",
      "execution_count": null,
      "metadata": {
        "colab": {
          "base_uri": "https://localhost:8080/"
        },
        "id": "I5Vu7WPhrrY6",
        "outputId": "21c830e5-f94c-4ac4-c6fd-2fdd5338775d"
      },
      "outputs": [
        {
          "data": {
            "text/plain": [
              "[6.5, 7.5, 9.5, 6.0, 8.5]"
            ]
          },
          "execution_count": 17,
          "metadata": {},
          "output_type": "execute_result"
        }
      ],
      "source": [
        "notas_atualizadas"
      ]
    },
    {
      "cell_type": "code",
      "execution_count": null,
      "metadata": {
        "colab": {
          "base_uri": "https://localhost:8080/"
        },
        "id": "AfQROdrs4BWb",
        "outputId": "b748b5a7-8254-465c-9417-fbfc398b8fed"
      },
      "outputs": [
        {
          "data": {
            "text/plain": [
              "[32.0, 77.0, 98.6, 172.4, 212.0]"
            ]
          },
          "execution_count": 2,
          "metadata": {},
          "output_type": "execute_result"
        }
      ],
      "source": [
        "temp_celsius = [0, 25, 37, 78, 100]\n",
        "temp_fahrenheit = list(map(lambda x: (x * 9/5) + 32, temp_celsius))\n",
        "temp_fahrenheit"
      ]
    },
    {
      "cell_type": "markdown",
      "metadata": {
        "id": "DoB6wf2JCYf7"
      },
      "source": [
        "## <font color=green> 3. ESTRUTURA DE DADOS COMPOSTAS\n",
        "---"
      ]
    },
    {
      "cell_type": "markdown",
      "metadata": {
        "id": "3or6MbnZDW_b"
      },
      "source": [
        "## 3.1 Estruturas aninhadas\n",
        "\n",
        "Aprendemos anteriormente a manipular listas, tuplas e dicionários para trabalhar com uma sequência ou coleção de valores sejam numéricos, categóricos, etc. Nessa aula, vamos aprofundar em outra situação comum para a pessoa cientista de dados que é trabalhar com esses tipos de estruturas aninhadas, ou seja, quando possuímos por exemplo listas dentro de uma lista. "
      ]
    },
    {
      "cell_type": "markdown",
      "metadata": {
        "id": "fddus1G9HqB3"
      },
      "source": [
        "### Lista de listas\n",
        "\n",
        "#### Formato padrão:\n",
        "\n",
        "```python\n",
        "[[a1, a2,...,an], [b1, b2,...,bn], ..., [n1, n2,...,nn]]\n",
        "```"
      ]
    },
    {
      "cell_type": "markdown",
      "metadata": {
        "id": "32K5LA11tFpz"
      },
      "source": [
        "#### **Situação 6:**\n",
        "\n",
        "Recebemos a demanda de transformar uma lista com o nome e as notas dos três trimestres de estudantes em uma lista simples com os nomes separados das notas e uma lista de listas com as três notas de cada estudante separadas umas das outras. Os dados recebidos correspondem a uma lista com os nomes e as respectivas notas de cada estudante. \n",
        "\n",
        "**Vamos resolver esse desafio?**\n",
        "\n",
        "Para facilitar o nosso entendimento do processo vamos trabalhar com uma turma fictícia de 5 estudantes.\n"
      ]
    },
    {
      "cell_type": "code",
      "execution_count": null,
      "metadata": {
        "id": "jlEP-c2YthpB"
      },
      "outputs": [],
      "source": [
        "notas_turma = ['João', 8.0, 9.0, 10.0, 'Maria', 9.0, 7.0, 6.0, 'José', 3.4, 7.0, 7.0, 'Cláudia', 5.5, 6.6, 8.0, 'Ana', 6.0, 10.0, 9.5]"
      ]
    },
    {
      "cell_type": "code",
      "execution_count": null,
      "metadata": {
        "id": "xP1H4Kw6uJTe"
      },
      "outputs": [],
      "source": [
        "nomes =[]\n",
        "notas_juntas = []\n",
        "\n",
        "for i in range(len(notas_turma)):\n",
        "  if i %4 ==0:\n",
        "    nomes.append(notas_turma[i])\n",
        "  else:\n",
        "    notas_juntas.append(notas_turma[i])"
      ]
    },
    {
      "cell_type": "code",
      "execution_count": null,
      "metadata": {
        "colab": {
          "base_uri": "https://localhost:8080/"
        },
        "id": "pelnQlo-v4l3",
        "outputId": "e310f5b3-0ee0-45fe-be47-0338c0f30946"
      },
      "outputs": [
        {
          "data": {
            "text/plain": [
              "['João', 'Maria', 'José', 'Cláudia', 'Ana']"
            ]
          },
          "execution_count": 6,
          "metadata": {},
          "output_type": "execute_result"
        }
      ],
      "source": [
        "nomes"
      ]
    },
    {
      "cell_type": "code",
      "execution_count": null,
      "metadata": {
        "colab": {
          "base_uri": "https://localhost:8080/"
        },
        "id": "61NkIzLvxXFa",
        "outputId": "1eb1364e-89fa-47c8-b4d3-7cb217a1a81a"
      },
      "outputs": [
        {
          "data": {
            "text/plain": [
              "[8.0, 9.0, 10.0, 9.0, 7.0, 6.0, 3.4, 7.0, 7.0, 5.5, 6.6, 8.0, 6.0, 10.0, 9.5]"
            ]
          },
          "execution_count": 7,
          "metadata": {},
          "output_type": "execute_result"
        }
      ],
      "source": [
        "notas_juntas"
      ]
    },
    {
      "cell_type": "code",
      "execution_count": null,
      "metadata": {
        "colab": {
          "base_uri": "https://localhost:8080/"
        },
        "id": "eL-y49GmPpjN",
        "outputId": "8a0d3e2f-ce21-4845-9977-2a9a928fb9e6"
      },
      "outputs": [
        {
          "data": {
            "text/plain": [
              "[[8.0, 9.0, 10.0],\n",
              " [9.0, 7.0, 6.0],\n",
              " [3.4, 7.0, 7.0],\n",
              " [5.5, 6.6, 8.0],\n",
              " [6.0, 10.0, 9.5]]"
            ]
          },
          "execution_count": 9,
          "metadata": {},
          "output_type": "execute_result"
        }
      ],
      "source": [
        "notas = []\n",
        "\n",
        "for i in range(0, len(notas_juntas),3):\n",
        "  notas.append([notas_juntas[i], notas_juntas[i+1],notas_juntas[i+2]])\n",
        "notas"
      ]
    },
    {
      "cell_type": "code",
      "execution_count": null,
      "metadata": {
        "colab": {
          "background_save": true,
          "base_uri": "https://localhost:8080/"
        },
        "id": "awqddIuGFf-k",
        "outputId": "4d9b722a-b3a5-4fd7-b93e-78ab9eda5394"
      },
      "outputs": [
        {
          "data": {
            "text/plain": [
              "[8.0, 9.0, 10.0]"
            ]
          },
          "execution_count": 10,
          "metadata": {},
          "output_type": "execute_result"
        }
      ],
      "source": [
        "notas[0]"
      ]
    },
    {
      "cell_type": "code",
      "execution_count": 12,
      "metadata": {
        "id": "PlDKPeCLDXU7",
        "colab": {
          "base_uri": "https://localhost:8080/"
        },
        "outputId": "07b6cf3d-97a2-4285-d26a-4bac2565fe65"
      },
      "outputs": [
        {
          "output_type": "execute_result",
          "data": {
            "text/plain": [
              "10.0"
            ]
          },
          "metadata": {},
          "execution_count": 12
        }
      ],
      "source": [
        "notas[0][2]"
      ]
    },
    {
      "cell_type": "markdown",
      "metadata": {
        "id": "SW0sVg68sK_z"
      },
      "source": [
        "### Lista de tuplas\n",
        "\n",
        "#### Formato padrão:\n",
        "\n",
        "```python\n",
        "[(a1, a2,...,an), (b1, b2,...,bn), ..., (n1, n2,...,nn)]\n",
        "```"
      ]
    },
    {
      "cell_type": "code",
      "source": [
        "cadastro = (\"Júlia\", 23, \"São Paulo\", \"SP\", \"Python para DS 1\")"
      ],
      "metadata": {
        "id": "vrIRQFHejDFL"
      },
      "execution_count": 14,
      "outputs": []
    },
    {
      "cell_type": "code",
      "source": [
        "print(cadastro[0]) # imprime Júlia\n",
        "print(cadastro[-1]) # imprime Python para DS 1"
      ],
      "metadata": {
        "colab": {
          "base_uri": "https://localhost:8080/"
        },
        "id": "-vNOUQ3fjIAv",
        "outputId": "e74bbe8a-849f-4705-befd-dc63a3e562e5"
      },
      "execution_count": 15,
      "outputs": [
        {
          "output_type": "stream",
          "name": "stdout",
          "text": [
            "Júlia\n",
            "Python para DS 1\n"
          ]
        }
      ]
    },
    {
      "cell_type": "code",
      "source": [
        "nome, idade, cidade, estado, turma = cadastro"
      ],
      "metadata": {
        "id": "6qPlYij5jN8n"
      },
      "execution_count": 16,
      "outputs": []
    },
    {
      "cell_type": "code",
      "source": [
        "print(f'A estudante {nome} tem {idade} anos e mora em {cidade}-{estado}. Ela está matriculada na turma de {turma}.')"
      ],
      "metadata": {
        "colab": {
          "base_uri": "https://localhost:8080/"
        },
        "id": "MVaS8qAFmnUO",
        "outputId": "8469c95b-018e-44f1-f878-85fd93339291"
      },
      "execution_count": 17,
      "outputs": [
        {
          "output_type": "stream",
          "name": "stdout",
          "text": [
            "A estudante Júlia tem 23 anos e mora em São Paulo-SP. Ela está matriculada na turma de Python para DS 1.\n"
          ]
        }
      ]
    },
    {
      "cell_type": "markdown",
      "metadata": {
        "id": "OId6jAZz5x2m"
      },
      "source": [
        "#### **Situação 7:**\n",
        "\n",
        "Nesta nova demanda, precisamos gerar uma lista de tuplas com os nomes dos estudantes e o código ID de cada um para a plataforma de análise dos dados. A criação do código consiste em concatenar a primeira letra do nome do estudante a um número aleatório de 0 a 999. Os dados recebidos correspondem a uma lista dos nomes de cada estudante. \n",
        "\n",
        "**Vamos resolver esse desafio?**\n",
        "\n",
        "Para facilitar o nosso entendimento do processo vamos trabalhar com uma turma fictícia de 5 estudantes.\n"
      ]
    },
    {
      "cell_type": "code",
      "execution_count": 18,
      "metadata": {
        "id": "aRB0zQ2_6aa9",
        "colab": {
          "base_uri": "https://localhost:8080/"
        },
        "outputId": "1192eb32-1373-449a-8ecb-426c755e02d0"
      },
      "outputs": [
        {
          "output_type": "execute_result",
          "data": {
            "text/plain": [
              "['João', 'Maria', 'José', 'Cláudia', 'Ana']"
            ]
          },
          "metadata": {},
          "execution_count": 18
        }
      ],
      "source": [
        "estudantes = [\"João\", \"Maria\", \"José\", \"Cláudia\", \"Ana\"]\n",
        "estudantes"
      ]
    },
    {
      "cell_type": "code",
      "execution_count": 19,
      "metadata": {
        "id": "wFHkckyg6aa-"
      },
      "outputs": [],
      "source": [
        "from random import randint\n",
        "\n",
        "def gera_codigo():\n",
        "  return str(randint(0,999))"
      ]
    },
    {
      "cell_type": "code",
      "execution_count": 20,
      "metadata": {
        "id": "tZItNHeo6aa-",
        "colab": {
          "base_uri": "https://localhost:8080/"
        },
        "outputId": "3f027d92-01b4-436a-ad9c-597c7f9139fd"
      },
      "outputs": [
        {
          "output_type": "execute_result",
          "data": {
            "text/plain": [
              "[('João', 'J715'),\n",
              " ('Maria', 'M528'),\n",
              " ('José', 'J835'),\n",
              " ('Cláudia', 'C366'),\n",
              " ('Ana', 'A922')]"
            ]
          },
          "metadata": {},
          "execution_count": 20
        }
      ],
      "source": [
        "codigo_estudantes = []\n",
        "\n",
        "for i in range(len(estudantes)):\n",
        "  codigo_estudantes.append((estudantes[i], estudantes[i][0]+gera_codigo()))\n",
        "\n",
        "codigo_estudantes"
      ]
    },
    {
      "cell_type": "markdown",
      "metadata": {
        "id": "srHAov19QCdb"
      },
      "source": [
        "## 3.2 List comprehension\n",
        "\n",
        "É uma forma simples e concisa de criar uma lista. Podemos aplicar condicionais e laços para criar diversos tipos de listas a partir de padrões que desejamos para a nossa estrutura de dados.\n",
        "\n",
        "https://docs.python.org/pt-br/3/tutorial/datastructures.html?#list-comprehensions\n",
        "\n",
        "#### Formato padrão:\n",
        "\n",
        "```python\n",
        "[exressão for item in lista]\n",
        "```"
      ]
    },
    {
      "cell_type": "markdown",
      "metadata": {
        "id": "l4HW0gDqecgM"
      },
      "source": [
        "#### **Situação 8:**\n",
        "\n",
        "Recebemos a demanda de criar uma lista com as médias dos estudantes da lista de listas que criamos na Situação 6. Lembrando que cada lista da lista de listas possui as três notas de cada estudante.\n",
        "\n",
        "**Vamos resolver esse desafio?**\n",
        "\n",
        "**Dica:** Utilize o formato:\n",
        "```python\n",
        "[exressão for item in lista]\n",
        "```"
      ]
    },
    {
      "cell_type": "code",
      "execution_count": null,
      "metadata": {
        "id": "RR5D3LvYAOUd"
      },
      "outputs": [],
      "source": [
        "notas = [[8.0, 9.0, 10.0], [9.0, 7.0, 6.0], [3.4, 7.0, 7.0], [5.5, 6.6, 8.0], [6.0, 10.0, 9.5]]"
      ]
    },
    {
      "cell_type": "code",
      "execution_count": null,
      "metadata": {
        "id": "J_atQRQdlpNe"
      },
      "outputs": [],
      "source": [
        "def media(lista: list=[0]) -> float:\n",
        "  ''' Função para calcular a média de notas passadas por uma lista\n",
        "\n",
        "  lista: list, default [0]\n",
        "    Lista com as notas para calcular a média\n",
        "  return = calculo: float\n",
        "    Média calculada\n",
        "  '''\n",
        "  \n",
        "  calculo = sum(lista) / len(lista)\n",
        "\n",
        "  return calculo"
      ]
    },
    {
      "cell_type": "code",
      "execution_count": null,
      "metadata": {
        "id": "G5CQqPkzQWT0"
      },
      "outputs": [],
      "source": []
    },
    {
      "cell_type": "markdown",
      "metadata": {
        "id": "ApLjXlAdhJKd"
      },
      "source": [
        "#### **Situação 9:**\n",
        "\n",
        "Agora, precisamos utilizar as médias calculadas no exemplo anterior, pareando com o nome dos estudantes. Isto será necessário para gerar uma lista que selecione aqueles estudantes que possuam uma média final maior ou igual a 8 para concorrer a uma bolsa para o próximo ano letivo. Os dados recebidos correspondem a uma lista de tuplas com os nomes e códigos dos estudantes e a lista de médias calculadas logo acima.\n",
        "\n",
        "**Vamos resolver esse desafio?** \n",
        "\n",
        "Para facilitar o nosso entendimento do processo vamos trabalhar com uma turma fictícia de 5 estudantes.\n",
        "\n",
        "**Dica:** Utilize o formato:\n",
        "```python\n",
        "[expr for item in lista if cond]\n",
        "```\n"
      ]
    },
    {
      "cell_type": "code",
      "execution_count": null,
      "metadata": {
        "id": "WhXegkP5DDMW"
      },
      "outputs": [],
      "source": [
        "nomes = [('João', 'J720'), ('Maria', 'M205'), ('José', 'J371'), ('Cláudia', 'C546'), ('Ana', 'A347')]\n",
        "medias = [9.0, 7.3, 5.8, 6.7, 8.5]"
      ]
    },
    {
      "cell_type": "code",
      "execution_count": null,
      "metadata": {
        "id": "Lvfr10SIDSDN"
      },
      "outputs": [],
      "source": [
        "# Gerando a lista de nomes (extraindo da tupla)\n"
      ]
    },
    {
      "cell_type": "markdown",
      "metadata": {
        "id": "U6KAABs7Dfpe"
      },
      "source": [
        "<font color=green>**Dica:**</font> Para conseguirmos parear as médias e nomes facilmente, podemos recorrer a mais uma built-in function: `zip()`\n",
        "\n",
        "Ela recebe um ou mais iteráveis (lista, string, dict, etc.) e retorna-os como um iterador de tuplas onde cada elemento dos iteráveis são pareados."
      ]
    },
    {
      "cell_type": "code",
      "execution_count": null,
      "metadata": {
        "id": "TRqn0wMUg3s7"
      },
      "outputs": [],
      "source": []
    },
    {
      "cell_type": "code",
      "execution_count": null,
      "metadata": {
        "id": "T1ocZ1G0g3qC"
      },
      "outputs": [],
      "source": [
        "# Gerando a lista de pessoas candidatas a bolsa\n"
      ]
    },
    {
      "cell_type": "markdown",
      "metadata": {
        "id": "9yzRDIB0fkeF"
      },
      "source": [
        "#### **Situação 10:**\n",
        "\n",
        "Recebemos duas demandas a respeito desse projeto com as notas dos estudantes:\n",
        "- Criar uma lista da situação dos estudantes em que caso se sua média seja maior ou igual a 6 receberá o valor \"Aprovado\" e caso contrário receberá o valor \"Reprovado\". \n",
        "- Gerar uma lista de listas com:\n",
        "  - Lista de tuplas com o nome dos estudantes e seus códigos\n",
        "  - Lista de listas com as notas de cada estudante\n",
        "  - Lista com as médias de cada estudante\n",
        "  - Lista da situação dos estudantes de acordo com as médias\n",
        "\n",
        "Os dados que utilizaremos são os mesmos que geramos nas situações anteriores (`nomes`, `notas`, `medias`).\n",
        "\n",
        "**Vamos resolver esse desafio?**\n",
        "\n",
        "Para seguirmos o processo, vou deixar logo abaixo as estruturas de dados que já produzimos.\n",
        "\n",
        "**Dica:** Para a lista das situações utilize o formato:\n",
        "```python\n",
        "[resultado_if if cond else resultado_else for item in lista]\n",
        "```"
      ]
    },
    {
      "cell_type": "code",
      "execution_count": null,
      "metadata": {
        "id": "-QlKML-tG6FN"
      },
      "outputs": [],
      "source": [
        "nomes = [('João', 'J720'), ('Maria', 'M205'), ('José', 'J371'), ('Cláudia', 'C546'), ('Ana', 'A347')]\n",
        "notas = [[8.0, 9.0, 10.0], [9.0, 7.0, 6.0], [3.4, 7.0, 7.0], [5.5, 6.6, 8.0], [6.0, 10.0, 9.5]]\n",
        "medias = [9.0, 7.3, 5.8, 6.7, 8.5]"
      ]
    },
    {
      "cell_type": "code",
      "execution_count": null,
      "metadata": {
        "id": "qYgaZthjQWQV"
      },
      "outputs": [],
      "source": []
    },
    {
      "cell_type": "markdown",
      "metadata": {
        "id": "0XsAi49IF9Ta"
      },
      "source": [
        "**Dica:** Para gerar a lista de listas do enunciado podemos utilizar o formato a seguir\n",
        "```python\n",
        "[expr for item in lista de listas]\n",
        "```"
      ]
    },
    {
      "cell_type": "code",
      "execution_count": null,
      "metadata": {
        "id": "G-AEgh4NGlvH"
      },
      "outputs": [],
      "source": []
    },
    {
      "cell_type": "markdown",
      "metadata": {
        "id": "4hkHEZGbGH7X"
      },
      "source": [
        "<font color=green>**Dica:**</font> Podemos recorrer a forma mais simples de geração de listas de lista com o uso direto dos colchetes sem necessitar de utilizar as expressões e o laço for na  abrangência de listas"
      ]
    },
    {
      "cell_type": "code",
      "execution_count": null,
      "metadata": {
        "id": "Oz2hU80RF82D"
      },
      "outputs": [],
      "source": []
    },
    {
      "cell_type": "markdown",
      "metadata": {
        "id": "NmohhDl-QRpx"
      },
      "source": [
        "## 3.3 Dict comprehension\n",
        "\n",
        "É uma forma simples e concisa de criar ou modificar um dicionário. Podemos aplicar condicionais e laços para criar diversos tipos de dicionários a partir de padrões que desejamos para a nossa estrutura de dados e com o suporte de iteráveis como listas ou sets.\n",
        "\n",
        "https://peps.python.org/pep-0274/\n",
        "\n",
        "#### Formato padrão:\n",
        "\n",
        "```python\n",
        "{chave: valor for item in lista}\n",
        "```"
      ]
    },
    {
      "cell_type": "markdown",
      "metadata": {
        "id": "kGt8hQXOKeIt"
      },
      "source": [
        "#### **Situação 11:**\n",
        "\n",
        "Agora, a nossa demanda consiste em gerar um dicionário a partir da lista de listas que criamos na Situação 10 para passar para a pessoa responsável por construir as tabelas para a análise dos dados. \n",
        "- As chaves do nosso dicionário serão as colunas identificando o tipo de dado\n",
        "- Os valores serão as listas com os dados correspondentes àquela chave.\n",
        "\n",
        "**Vamos resolver esse desafio?**\n",
        "\n",
        "Para facilitar o nosso entendimento do processo vamos trabalhar com uma turma fictícia de 5 estudantes.\n",
        "\n",
        "**Dica:** Utilize o formato\n",
        "\n",
        "```python\n",
        "{chave: valor for item in lista}\n",
        "```"
      ]
    },
    {
      "cell_type": "code",
      "execution_count": null,
      "metadata": {
        "id": "fD_TeWtOUQKQ"
      },
      "outputs": [],
      "source": [
        "lista_completa = [[('João', 'J720'), ('Maria', 'M205'), ('José', 'J371'), ('Cláudia', 'C546'), ('Ana', 'A347')],\n",
        "                  [[8.0, 9.0, 10.0], [9.0, 7.0, 6.0], [3.4, 7.0, 7.0], [5.5, 6.6, 8.0], [6.0, 10.0, 9.5]],\n",
        "                  [9.0, 7.3, 5.8, 6.7, 8.5],\n",
        "                  ['Aprovado', 'Aprovado', 'Reprovado', 'Aprovado', 'Aprovado']]"
      ]
    },
    {
      "cell_type": "code",
      "execution_count": null,
      "metadata": {
        "id": "xFkmjd4EKG7b"
      },
      "outputs": [],
      "source": [
        "# Colunas com os tipos dos dados (exceto nome)\n",
        "coluna = [\"Notas\", \"Média Final\", \"Situação\"]\n",
        "\n",
        "..."
      ]
    },
    {
      "cell_type": "code",
      "execution_count": null,
      "metadata": {
        "id": "yDPfgllCKVrt"
      },
      "outputs": [],
      "source": [
        "# Vamos por fim adicionar o nome dos estudantes, extraindo apenas seus nomes da lista de tuplas\n"
      ]
    },
    {
      "cell_type": "markdown",
      "metadata": {
        "id": "RxKC5WVoCYp3"
      },
      "source": [
        "## <font color=green> 4. LIDANDO COM EXCEÇÕES\n",
        "---"
      ]
    },
    {
      "cell_type": "markdown",
      "metadata": {
        "id": "MzOZ_0M3CU1x"
      },
      "source": [
        "Podemos notar em nosso caminho até aqui a existência de alguns erros e exceções na execução de algum comando. Como uma pessoa cientista de dados ou programador, você precisará estar atento a essas situações para evitar bugs ou problemas em seus códigos e análises que possam afetar a experiência tanto do usuário quanto a eficiência da sua análise.\n",
        "\n",
        "Existem basicamente duas formas distintas de erros: os **erros de sintaxe** e as **exceções**.\n",
        "\n",
        "Exceções são erros detectados durante a execução e que quebram o fluxo do programa encerrando-o caso não sejam tratadas.  \n",
        "\n",
        "Vamos aprender a identificar e tratar algumas das exceções aqui, mas é sempre importante mergulhar na documentação para pesquisar e verificar quais se enquadram nos seus projetos.\n",
        "\n",
        "**Documentação sobre erros e exceções:** https://docs.python.org/3/tutorial/errors.html"
      ]
    },
    {
      "cell_type": "markdown",
      "metadata": {
        "id": "x3E66krBST7K"
      },
      "source": [
        "## 4.1 Tratando Exceções\n",
        "\n",
        "O tratamento das exceções contribui estabelecendo um fluxo alternativo para a execução do código evitando a interrupção dos processos inesperadamente.\n",
        "\n",
        "Existe uma série de exceções e a partir do comportamento que queremos e dos erros que queremos tratar é possível construir um caminho para o usuário ou fornecer mais detalhes sobre aquela exceção.\n",
        "\n",
        "- Hierarquia das Exceções (https://docs.python.org/3/library/exceptions.html#exception-hierarchy)"
      ]
    },
    {
      "cell_type": "markdown",
      "metadata": {
        "id": "h9lj8Wfk__cl"
      },
      "source": [
        "### Try ... Except\n",
        "\n",
        "```python\n",
        "try:\n",
        "  # código a ser executado. Caso uma exceção seja lançada, pare imediatamente\n",
        "except <nome_da_excecao as e>:\n",
        "  # Se uma exceção for lançada no try, rode esse código, senão pule esta etapa\n",
        "```"
      ]
    },
    {
      "cell_type": "markdown",
      "metadata": {
        "id": "miwzhPNdD8Ty"
      },
      "source": [
        "#### **Situação 12:**\n",
        "\n",
        "Você criou um código que lê um dicionário com as notas dos estudantes e quis retornar a lista de notas de um estudante.\n",
        "\n",
        "Caso o(a) estudante não esteja matriculado(a) na turma devemos tratar a exceção para aparecer a mensagem \"Estudante não matriculado(a) na turma\". \n",
        "\n",
        "Vamos trabalhar nesse exemplo com a exceção **Key Error** que interromperá o processo desse pedaço do código. \n",
        "\n",
        "**Vamos testar esse primeiro tratamento?**"
      ]
    },
    {
      "cell_type": "code",
      "execution_count": null,
      "metadata": {
        "id": "PkMmeYxaDcIF"
      },
      "outputs": [],
      "source": [
        "notas = {'João': [8.0, 9.0, 10.0], 'Maria': [9.0, 7.0, 6.0], 'José': [3.4, 7.0, 8.0], 'Cláudia': [5.5, 6.6, 8.0], \n",
        " 'Ana': [6.0, 10.0, 9.5], 'Joaquim': [5.5, 7.5, 9.0], 'Júlia': [6.0, 8.0, 7.0], 'Pedro': [3.0, 4.0, 6.0]}"
      ]
    },
    {
      "cell_type": "code",
      "execution_count": null,
      "metadata": {
        "id": "AudrLS-BGGEy"
      },
      "outputs": [],
      "source": []
    },
    {
      "cell_type": "code",
      "execution_count": null,
      "metadata": {
        "id": "NEX6RRX7Wb0Y"
      },
      "outputs": [],
      "source": []
    },
    {
      "cell_type": "code",
      "execution_count": null,
      "metadata": {
        "id": "3oV8Bw-NGGiu"
      },
      "outputs": [],
      "source": []
    },
    {
      "cell_type": "markdown",
      "metadata": {
        "id": "hKhKzgQoBHLb"
      },
      "source": [
        "### Adicionando o Else\n",
        "\n",
        "```python\n",
        "try:\n",
        "  # código a ser executado. Caso uma exceção seja lançada, pare imediatamente\n",
        "except:\n",
        "  # Se uma exceção for lançada no try, rode esse código, senão pule esta etapa\n",
        "else:\n",
        "  # Se não houver uma exeção lançada pelo try, rode essa parte\n",
        "```"
      ]
    },
    {
      "cell_type": "markdown",
      "metadata": {
        "id": "USN3SA2tMjL0"
      },
      "source": [
        "#### **Situação 13:**\n",
        "\n",
        "Você criou um código que lê um dicionário com as notas dos estudantes e quis retornar a lista de notas de um estudante. \n",
        "\n",
        "Caso o(a) estudante não esteja matriculado(a) na classe devemos tratar a exceção para aparecer a mensagem \"Estudante não matriculado(a) na turma\" e se a exceção não for lançada devemos exibir a lista com as notas do(a) estudante. \n",
        "\n",
        "Vamos trabalhar nesse exemplo com a exceção **Key Error** que interromperá o processo desse pedaço do código. \n",
        "\n",
        "**Vamos testar esse tratamento?**"
      ]
    },
    {
      "cell_type": "code",
      "execution_count": null,
      "metadata": {
        "id": "zCdjBCDFLE_6"
      },
      "outputs": [],
      "source": [
        "notas = {'João': [8.0, 9.0, 10.0], 'Maria': [9.0, 7.0, 6.0], 'José': [3.4, 7.0, 8.0], 'Cláudia': [5.5, 6.6, 8.0], \n",
        " 'Ana': [6.0, 10.0, 9.5], 'Joaquim': [5.5, 7.5, 9.0], 'Júlia': [6.0, 8.0, 7.0], 'Pedro': [3.0, 4.0, 6.0]}"
      ]
    },
    {
      "cell_type": "code",
      "execution_count": null,
      "metadata": {
        "id": "NS4vABJPDcFN"
      },
      "outputs": [],
      "source": []
    },
    {
      "cell_type": "markdown",
      "metadata": {
        "id": "Dw_efTlbBhll"
      },
      "source": [
        "### Adicionando o finally\n",
        "\n",
        "```python\n",
        "try:\n",
        "  # código a ser executado. Caso uma exceção seja lançada, pare imediatamente\n",
        "except:\n",
        "  # Se uma exceção for lançada no try, rode esse código, senão pule esta etapa\n",
        "else:\n",
        "  # Se não houver uma exeção lançada pelo try, rode essa parte\n",
        "finally:\n",
        "  # Rode essa parte (com ou sem exceção)\n",
        "```"
      ]
    },
    {
      "cell_type": "markdown",
      "metadata": {
        "id": "jGtFVx5GdnsS"
      },
      "source": [
        "#### **Situação 14:**\n",
        "\n",
        "Você criou um código que lê um dicionário com as notas dos estudantes e quis retornar a lista de notas de um estudante. \n",
        "\n",
        "Caso o(a) estudante não esteja matriculado(a) na classe devemos tratar a exceção para aparecer a mensagem \"Estudante não matriculado(a) na turma\" e se a exceção não for lançada devemos exibir a lista com as notas do(a) estudante. Um texto avisando que \"A consulta foi encerrada!\" deve ser exibido com ou sem a exceção ser lançada.\n",
        "\n",
        "Vamos trabalhar nesse exemplo com a exceção **Key Error** que interromperá o processo desse pedaço do código. \n",
        "\n",
        "**Vamos testar esse tratamento?**"
      ]
    },
    {
      "cell_type": "code",
      "execution_count": null,
      "metadata": {
        "id": "uOLFoYweLN9W"
      },
      "outputs": [],
      "source": [
        "notas = {'João': [8.0, 9.0, 10.0], 'Maria': [9.0, 7.0, 6.0], 'José': [3.4, 7.0, 8.0], 'Cláudia': [5.5, 6.6, 8.0], \n",
        " 'Ana': [6.0, 10.0, 9.5], 'Joaquim': [5.5, 7.5, 9.0], 'Júlia': [6.0, 8.0, 7.0], 'Pedro': [3.0, 4.0, 6.0]}"
      ]
    },
    {
      "cell_type": "code",
      "execution_count": null,
      "metadata": {
        "id": "U8QCogXhBi8C"
      },
      "outputs": [],
      "source": []
    },
    {
      "cell_type": "markdown",
      "metadata": {
        "id": "HdjllLBpST_2"
      },
      "source": [
        "## 4.2 Raise\n",
        "\n",
        "Uma outra forma de trabalhar com as exceções em seu código, é criar as suas próprias exceções para determinados comportamentos que deseja em seu código. \n",
        "\n",
        "Para isso, utilizamos a palavra-chave `raise` junto ao tipo de exceção que deseja lançar e uma mensagem a ser exibida.   "
      ]
    },
    {
      "cell_type": "markdown",
      "metadata": {
        "id": "_nIOnDQufv6Z"
      },
      "source": [
        "```python\n",
        "raise NomeDoErro(\"mensagem_desejada\")\n",
        "```"
      ]
    },
    {
      "cell_type": "markdown",
      "metadata": {
        "id": "xapeB2ivgB7R"
      },
      "source": [
        "#### **Situação 15:**\n",
        "\n",
        "Você criou uma função para calcular a média de um estudante em uma dada matéria passando em uma lista as notas deste estudante. \n",
        "\n",
        "Você pretende tratar 2 situações:\n",
        "- Se a lista possuir um valor não numérico o cálculo de média não será executado e uma mensagem de \"Não foi possível calcular a média do(a) estudante. Só são aceitos valores numéricos!\" será exibida.\n",
        "- Caso a lista tenha mais de 4 notas, será lançada uma exceção do tipo **ValueError** informando que \"A lista não pode possuir mais de 4 notas.\" \n",
        "\n",
        "Um texto avisando que \"A consulta foi encerrada!\" deve ser exibido com ou sem a exceção ser lançada.\n",
        "\n",
        "**Vamos resolver esse desafio?**"
      ]
    },
    {
      "cell_type": "code",
      "execution_count": null,
      "metadata": {
        "id": "Hf7MQtMjSXS-"
      },
      "outputs": [],
      "source": [
        "def media(lista: list=[0]) -> float:\n",
        "  ''' Função para calcular a média de notas passadas por uma lista\n",
        "\n",
        "  lista: list, default [0]\n",
        "    Lista com as notas para calcular a média\n",
        "  return = calculo: float\n",
        "    Média calculada\n",
        "  '''\n",
        "  \n",
        "  calculo = sum(lista) / len(lista)\n",
        "\n",
        "  ...\n",
        "\n",
        "  return calculo"
      ]
    },
    {
      "cell_type": "code",
      "execution_count": null,
      "metadata": {
        "id": "gnlcrP93k8f2"
      },
      "outputs": [],
      "source": []
    },
    {
      "cell_type": "code",
      "execution_count": null,
      "metadata": {
        "id": "IprXe3qalX5J"
      },
      "outputs": [],
      "source": []
    },
    {
      "cell_type": "code",
      "execution_count": null,
      "metadata": {
        "id": "lO8OCMRzSXQv"
      },
      "outputs": [],
      "source": []
    },
    {
      "cell_type": "code",
      "execution_count": null,
      "metadata": {
        "id": "A-rA3l4hm4RA"
      },
      "outputs": [],
      "source": []
    },
    {
      "cell_type": "code",
      "execution_count": null,
      "metadata": {
        "id": "Jf3Sg5H-m4Za"
      },
      "outputs": [],
      "source": []
    }
  ],
  "metadata": {
    "colab": {
      "provenance": [],
      "include_colab_link": true
    },
    "kernelspec": {
      "display_name": "Python 3",
      "name": "python3"
    },
    "language_info": {
      "name": "python"
    }
  },
  "nbformat": 4,
  "nbformat_minor": 0
}