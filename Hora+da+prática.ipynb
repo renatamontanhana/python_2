{
  "nbformat": 4,
  "nbformat_minor": 0,
  "metadata": {
    "colab": {
      "provenance": [],
      "include_colab_link": true
    },
    "kernelspec": {
      "name": "python3",
      "display_name": "Python 3"
    },
    "language_info": {
      "name": "python"
    }
  },
  "cells": [
    {
      "cell_type": "markdown",
      "metadata": {
        "id": "view-in-github",
        "colab_type": "text"
      },
      "source": [
        "<a href=\"https://colab.research.google.com/github/renatamontanhana/python_2/blob/main/Hora%2Bda%2Bpra%CC%81tica.ipynb\" target=\"_parent\"><img src=\"https://colab.research.google.com/assets/colab-badge.svg\" alt=\"Open In Colab\"/></a>"
      ]
    },
    {
      "cell_type": "markdown",
      "source": [
        "# Sobre o notebook\n",
        "\n",
        "A \"hora da prática\" é uma atividade do curso de Python para Data Science da Alura que contém diversos desafios envolvendo os aprendizados de cada aula.\n",
        "\n",
        "O notebook \"hora da prática\" é um notebook construído com espaço para as células dos desafios propostos no curso, com ele você tem espaço para construir e executar suas soluções"
      ],
      "metadata": {
        "id": "_kwAaQ36gLQ1"
      }
    },
    {
      "cell_type": "markdown",
      "source": [
        "## Aula 1 - Bibliotecas"
      ],
      "metadata": {
        "id": "Mc-KN0dA0Z83"
      }
    },
    {
      "cell_type": "markdown",
      "source": [
        "### Aquecimento"
      ],
      "metadata": {
        "id": "Dq02fNPCl_JV"
      }
    },
    {
      "cell_type": "markdown",
      "source": [
        "#### Questão 1\n",
        "\n",
        "Escreva um código para instalar a versão `3.7.1` da biblioteca `matplotlib`"
      ],
      "metadata": {
        "id": "l5eLWf0W0ikn"
      }
    },
    {
      "cell_type": "code",
      "source": [
        "!pip install matplotlib==3.7.1\n"
      ],
      "metadata": {
        "id": "m4b6NquSaj3q",
        "colab": {
          "base_uri": "https://localhost:8080/"
        },
        "outputId": "edb96c44-fb09-4cb4-a60d-8448cc442fce"
      },
      "execution_count": 1,
      "outputs": [
        {
          "output_type": "stream",
          "name": "stdout",
          "text": [
            "Looking in indexes: https://pypi.org/simple, https://us-python.pkg.dev/colab-wheels/public/simple/\n",
            "Requirement already satisfied: matplotlib==3.7.1 in /usr/local/lib/python3.9/dist-packages (3.7.1)\n",
            "Requirement already satisfied: python-dateutil>=2.7 in /usr/local/lib/python3.9/dist-packages (from matplotlib==3.7.1) (2.8.2)\n",
            "Requirement already satisfied: packaging>=20.0 in /usr/local/lib/python3.9/dist-packages (from matplotlib==3.7.1) (23.0)\n",
            "Requirement already satisfied: pillow>=6.2.0 in /usr/local/lib/python3.9/dist-packages (from matplotlib==3.7.1) (8.4.0)\n",
            "Requirement already satisfied: kiwisolver>=1.0.1 in /usr/local/lib/python3.9/dist-packages (from matplotlib==3.7.1) (1.4.4)\n",
            "Requirement already satisfied: fonttools>=4.22.0 in /usr/local/lib/python3.9/dist-packages (from matplotlib==3.7.1) (4.39.3)\n",
            "Requirement already satisfied: importlib-resources>=3.2.0 in /usr/local/lib/python3.9/dist-packages (from matplotlib==3.7.1) (5.12.0)\n",
            "Requirement already satisfied: cycler>=0.10 in /usr/local/lib/python3.9/dist-packages (from matplotlib==3.7.1) (0.11.0)\n",
            "Requirement already satisfied: contourpy>=1.0.1 in /usr/local/lib/python3.9/dist-packages (from matplotlib==3.7.1) (1.0.7)\n",
            "Requirement already satisfied: pyparsing>=2.3.1 in /usr/local/lib/python3.9/dist-packages (from matplotlib==3.7.1) (3.0.9)\n",
            "Requirement already satisfied: numpy>=1.20 in /usr/local/lib/python3.9/dist-packages (from matplotlib==3.7.1) (1.22.4)\n",
            "Requirement already satisfied: zipp>=3.1.0 in /usr/local/lib/python3.9/dist-packages (from importlib-resources>=3.2.0->matplotlib==3.7.1) (3.15.0)\n",
            "Requirement already satisfied: six>=1.5 in /usr/local/lib/python3.9/dist-packages (from python-dateutil>=2.7->matplotlib==3.7.1) (1.16.0)\n"
          ]
        }
      ]
    },
    {
      "cell_type": "markdown",
      "source": [
        "#### Questão 2\n",
        "\n",
        "Escreva um código para importar a biblioteca `numpy` com o alias `np`"
      ],
      "metadata": {
        "id": "tQdX90Ue03c7"
      }
    },
    {
      "cell_type": "code",
      "source": [
        "import numpy as np"
      ],
      "metadata": {
        "id": "Gh8aZUwaakuT"
      },
      "execution_count": 2,
      "outputs": []
    },
    {
      "cell_type": "markdown",
      "source": [
        "#### Questão 3\n",
        "Crie um programa que lê a seguinte lista de números e escolha um número desta aleatoriamente.\n",
        "```\n",
        "lista = [8, 12, 54, 23, 43, 1, 90, 87, 105, 77]\n",
        "```"
      ],
      "metadata": {
        "id": "gfg-aiip03vC"
      }
    },
    {
      "cell_type": "code",
      "source": [
        "from random import choice\n",
        "lista = [8, 12, 54, 23, 43, 1, 90, 87, 105, 77]\n",
        "print(f\"Número escolhido: {choice(lista)}\")"
      ],
      "metadata": {
        "id": "Sla71KJQalws",
        "colab": {
          "base_uri": "https://localhost:8080/"
        },
        "outputId": "09632703-8c38-408b-93b7-a13db35db140"
      },
      "execution_count": 5,
      "outputs": [
        {
          "output_type": "stream",
          "name": "stdout",
          "text": [
            "Número escolhido: 90\n"
          ]
        }
      ]
    },
    {
      "cell_type": "markdown",
      "source": [
        "#### Questão 4\n",
        "\n",
        "Crie um programa que sorteia aleatoriamente um número inteiro menor que 100. \n",
        "> Dica: use a função [`randrange()`](https://docs.python.org/3/library/random.html#random.randrange) da biblioteca `random`. Essa função recebe como parâmetro o valor limite para a escolha aleatória ou um intervalo se passado o limite mínimo e máximo. Por exemplo, `randrange(5)` gera valores inteiros menores que 5. \n"
      ],
      "metadata": {
        "id": "oadrJbl704MM"
      }
    },
    {
      "cell_type": "code",
      "source": [
        "from random import randrange\n",
        "randrange(100)"
      ],
      "metadata": {
        "id": "UZSpqpOuanFT",
        "colab": {
          "base_uri": "https://localhost:8080/"
        },
        "outputId": "d3f97f6f-09c2-49df-90fb-98215b0460ba"
      },
      "execution_count": 8,
      "outputs": [
        {
          "output_type": "execute_result",
          "data": {
            "text/plain": [
              "88"
            ]
          },
          "metadata": {},
          "execution_count": 8
        }
      ]
    },
    {
      "cell_type": "markdown",
      "source": [
        "#### Questão 5\n",
        "Crie um programa que solicite à pessoa usuária digitar dois números inteiros e calcular a potência do 1º número elevado ao 2º. \n",
        "> Dica: use a função [`pow()`](https://docs.python.org/3/library/random.html#random.randrange) da biblioteca `math` \n"
      ],
      "metadata": {
        "id": "3RgyMaan04TD"
      }
    },
    {
      "cell_type": "code",
      "source": [
        "from math import pow\n",
        "\n",
        "base = int(input(\"Digite a base da potência: \"))\n",
        "expoente = int(input(\"Digite o expoente da potência: \"))\n",
        "print(f\"{base} elevado a {expoente} é igual a {pow(base, expoente)}\")"
      ],
      "metadata": {
        "id": "UOzl8la0aoBd",
        "colab": {
          "base_uri": "https://localhost:8080/"
        },
        "outputId": "d60d9733-aff3-429d-f076-3a4302039e69"
      },
      "execution_count": 9,
      "outputs": [
        {
          "output_type": "stream",
          "name": "stdout",
          "text": [
            "Digite a base da potência: 10\n",
            "Digite o expoente da potência: 4\n",
            "10 elevado a 4 é igual a 10000.0\n"
          ]
        }
      ]
    },
    {
      "cell_type": "markdown",
      "source": [
        "### Aplicando a projetos"
      ],
      "metadata": {
        "id": "ieCkWjvEmJU0"
      }
    },
    {
      "cell_type": "markdown",
      "source": [
        "#### Questão 6\n",
        "Um programa deve ser escrito para sortear uma pessoa seguidora de uma rede social para ganhar um prêmio. A lista de participantes é numerada e devemos escolher aleatoriamente um número de acordo com a quantidade de participantes.\n",
        "\n",
        "Peça à pessoa usuária para fornecer o número de participantes do sorteio e devolva para ela o número sorteado."
      ],
      "metadata": {
        "id": "0rS4QHP1mXQE"
      }
    },
    {
      "cell_type": "code",
      "source": [
        "from random import randint\n",
        "# Transformando a quantidade de participantes de string para inteiro\n",
        "n = int(input(\"Digite o nº de participantes do sorteio: \"))\n",
        "# Sorteando um número no intervalo de 1 até a quantidade de participantes\n",
        "print(f\"O número sorteado foi {randint(1, n)}\")"
      ],
      "metadata": {
        "id": "G4k5jUdAao8t",
        "colab": {
          "base_uri": "https://localhost:8080/"
        },
        "outputId": "6fa2d4db-0d60-40c6-aa03-ccddbed920ad"
      },
      "execution_count": 11,
      "outputs": [
        {
          "output_type": "stream",
          "name": "stdout",
          "text": [
            "Digite o nº de participantes do sorteio: 899\n",
            "O número sorteado foi 664\n"
          ]
        }
      ]
    },
    {
      "cell_type": "markdown",
      "source": [
        "#### Questão 7\n",
        "\n",
        "Você recebeu uma demanda para gerar números de token para o acesso ao aplicativo de uma empresa. O token precisa ser par e variar de 1000 até 9998. Escreva um código que solicita à pessoa usuária o seu nome e gera uma mensagem junto a esse token gerado aleatoriamente:\n",
        "\n",
        "`\"Olá, [nome], o seu token de acesso é [token]! Seja bem-vindo(a)!\"`"
      ],
      "metadata": {
        "id": "9D6cd4tomhSi"
      }
    },
    {
      "cell_type": "code",
      "source": [
        "from random import randrange\n",
        "\n",
        "nome = input(\"Qual o seu nome? \")\n",
        "# Gerando um token par de 1000 a 9998. O randrange tem o intervalo aberto em 10000, ou seja,\n",
        "# não considera 10000 como opção de escolha (token >= 1000 e token < 10000)\n",
        "token = randrange(1000, 10000, 2)\n",
        "\n",
        "print(f\"Olá, {nome}, o seu token de acesso é {token}! Seja bem-vindo(a)!\")"
      ],
      "metadata": {
        "id": "Y4ACJ4rEaqQW",
        "colab": {
          "base_uri": "https://localhost:8080/"
        },
        "outputId": "783b131a-6b6f-4e7a-dd94-50935f814696"
      },
      "execution_count": 12,
      "outputs": [
        {
          "output_type": "stream",
          "name": "stdout",
          "text": [
            "Qual o seu nome? renata\n",
            "Olá, renata, o seu token de acesso é 9084! Seja bem-vindo(a)!\n"
          ]
        }
      ]
    },
    {
      "cell_type": "markdown",
      "source": [
        "#### Questão 8\n",
        "Para diversificar e atrair novos clientes, uma lanchonete criou um item misterioso em seu cardápio chamado \"salada de frutas surpresa\". Neste item, são escolhidas aleatoriamente 3 frutas de uma lista de 12 frutas para compor a salada de frutas da pessoa cliente.\n",
        "\n",
        "Crie o código que faça essa seleção aleatória de acordo com a lista abaixo:\n",
        "\n",
        "```\n",
        "frutas = [\"maçã\", \"banana\", \"uva\", \"pêra\", \n",
        "          \"manga\", \"coco\", \"melancia\", \"mamão\",\n",
        "          \"laranja\", \"abacaxi\", \"kiwi\", \"ameixa\"]\n",
        "```"
      ],
      "metadata": {
        "id": "FHJHH_WemhFJ"
      }
    },
    {
      "cell_type": "code",
      "source": [
        "from random import choices\n",
        "\n",
        "# Lista das frutas disponíveis\n",
        "frutas = [\"maçã\", \"banana\", \"uva\", \"pêra\",\"manga\", \"coco\", \n",
        "          \"melancia\", \"mamão\", \"laranja\", \"abacaxi\", \"kiwi\", \"ameixa\"]\n",
        "\n",
        "# Gerando uma lista com a escolha aleatoria de 3 frutas \n",
        "salada = choices(frutas, k=3)\n",
        "\n",
        "# Imprimindo os itens da lista de frutas gerada\n",
        "print(f\"A salada surpresa é: {salada[0]}, {salada[1]} e {salada[2]}\")"
      ],
      "metadata": {
        "id": "gR0BNVGoarOv",
        "colab": {
          "base_uri": "https://localhost:8080/"
        },
        "outputId": "dc9caafb-100b-474d-ff86-d410bdfbfcca"
      },
      "execution_count": 1,
      "outputs": [
        {
          "output_type": "stream",
          "name": "stdout",
          "text": [
            "A salada surpresa é: ameixa, abacaxi e manga\n"
          ]
        }
      ]
    },
    {
      "cell_type": "markdown",
      "source": [
        "#### Questão 9\n",
        "Você recebeu um desafio de calcular a raiz quadrada de uma lista de números, identificando quais resultaram em um número inteiro. A lista é a seguinte:\n",
        "```\n",
        "numeros = [2, 8, 15, 23, 91, 112, 256]\n",
        "```\n",
        "\n",
        "Informe no final quais números possuem raízes inteiras e seus respectivos valores.\n",
        "\n",
        "> Dica: use a comparação entre a divisão inteira da raiz por 1 com o valor da raiz para verificar se o número é inteiro. Por exemplo:\n",
        "```\n",
        "num = 1.5\n",
        "num_2 = 2\n",
        "print(f'{num} é inteiro? :', num // 1 == num)\n",
        "print(f'{num_2} é inteiro? :', num_2 // 1 == num_2)\n",
        "```\n",
        "Saída:\n",
        "```\n",
        "1.5 é inteiro? : False\n",
        "2 é inteiro? : True\n",
        "```"
      ],
      "metadata": {
        "id": "m_voDwY9mhNJ"
      }
    },
    {
      "cell_type": "code",
      "source": [
        "from math import sqrt\n",
        "\n",
        "numeros = [2, 8, 15, 25, 81, 112, 256]\n",
        "# iniciando uma lista vazia para receber as raízes\n",
        "raiz = []\n",
        "\n",
        "# laço for para calcular cada raiz da lista de números e adicionar a lista raiz\n",
        "for numero in numeros:\n",
        "  raiz.append(sqrt(numero))\n",
        "\n",
        "# laço for para ler a lista raiz e exibir um texto só quando a raiz for um valor inteiro \n",
        "for i in range(len(raiz)):\n",
        "  # condição para testar se um número é inteiro (Ex: 2.5 // 1 = 2 ... 2 != 2.5)\n",
        "  if raiz[i] // 1 == raiz[i]:\n",
        "    print(f\"O número {numeros[i]} possui raiz quadrada inteira igual a {int(raiz[i])}\")"
      ],
      "metadata": {
        "id": "80eu9G8HaswW",
        "colab": {
          "base_uri": "https://localhost:8080/"
        },
        "outputId": "f717ba80-7414-4417-c2ae-0f1fb7486c8f"
      },
      "execution_count": 2,
      "outputs": [
        {
          "output_type": "stream",
          "name": "stdout",
          "text": [
            "O número 25 possui raiz quadrada inteira igual a 5\n",
            "O número 81 possui raiz quadrada inteira igual a 9\n",
            "O número 256 possui raiz quadrada inteira igual a 16\n"
          ]
        }
      ]
    },
    {
      "cell_type": "markdown",
      "source": [
        "#### Questão 10\n",
        "Faça um programa para uma loja que vende grama para jardins. Essa loja trabalha com jardins circulares e o preço do metro quadrado da grama é de R$ 25,00. Peça à pessoa usuária o raio da área circular e devolva o valor em reais do quanto precisará pagar.  \n",
        "\n",
        "> Dica: use a variável [`pi`](https://docs.python.org/pt-br/3/library/math.html#math.pi) e o método [`pow()`](https://docs.python.org/3/library/random.html#random.randrange) da biblioteca `math`. O cálculo de área de um círculo é de: $Area = \\pi \\times r^2$"
      ],
      "metadata": {
        "id": "dBl0iKd7mhYA"
      }
    },
    {
      "cell_type": "code",
      "source": [
        "# importando 2 métodos da mesma biblioteca\n",
        "from math import pi, pow\n",
        "\n",
        "raio = float(input(\"Digite o raio da área circular em metros: \"))\n",
        "# Cálculo da área com os métodos da math e obtenção do custo em reais\n",
        "area = pi*pow(raio,2)\n",
        "valor = area * 25.00\n",
        "\n",
        "# Exibição do cálculo e custo na tela. O round(n,2) arredonda qualquer número em 2 casas decimais\n",
        "print(f\"Você precisará pagar R$ {round(valor,2)} por uma área de {round(area,2)} metros de grama\")"
      ],
      "metadata": {
        "id": "VK0RHwYIattI",
        "colab": {
          "base_uri": "https://localhost:8080/"
        },
        "outputId": "de04ad1d-68db-4a67-9ce4-fee2eafe494b"
      },
      "execution_count": 3,
      "outputs": [
        {
          "output_type": "stream",
          "name": "stdout",
          "text": [
            "Digite o raio da área circular em metros: 20\n",
            "Você precisará pagar R$ 31415.93 por uma área de 1256.64 metros de grama\n"
          ]
        }
      ]
    },
    {
      "cell_type": "markdown",
      "source": [
        "## Aula 2 - Funções"
      ],
      "metadata": {
        "id": "D9e3FqhO1S3X"
      }
    },
    {
      "cell_type": "markdown",
      "source": [
        "### Aquecimento"
      ],
      "metadata": {
        "id": "DTBxjtxXa1dz"
      }
    },
    {
      "cell_type": "markdown",
      "source": [
        "#### Questão 1\n",
        "\n",
        "Escreva um código que lê a lista abaixo e faça:\n",
        "\n",
        "```\n",
        "lista = [16, 14, 63, 65, 17, 99, 70, 11, 20, 48, 79, 32, 17, 89, 12, 25, 66]\n",
        "```\n",
        "\n",
        "- A leitura do tamanho da lista\n",
        "- A leitura do maior e menor valor\n",
        "- A soma dos valores da lista\n",
        "\n",
        "Ao final exiba uma mensagem dizendo:\n",
        "\n",
        "```\n",
        "\"A lista possui [tam] números em que o maior número é [maior] e o menor número é [menor]. A soma dos valores pares presentes nela é igual a [soma]\"\n",
        "```\n",
        "\n",
        "> Dica: use as funções embutidas presentes na [documentação do Python](https://docs.python.org/3/library/functions.html)\n"
      ],
      "metadata": {
        "id": "dedVZJ3fa1dz"
      }
    },
    {
      "cell_type": "code",
      "source": [
        "# Lista gerada\n",
        "lista = [16, 14, 63, 65, 17, 99, 70, 11, 20, 48, 79, 32, 17, 89, 12, 25, 66]\n",
        "\n",
        "# Lendo o tamanho, maior e menor número e soma, respectivamente, utilizando as built-in functions\n",
        "tam = len(lista)\n",
        "maior = max(lista)\n",
        "menor = min(lista)\n",
        "soma = sum(lista)\n",
        "\n",
        "# Exibindo o texto\n",
        "print(f\"A lista possui {tam} números em que o maior número é {maior} e o menor número é {menor}. A soma dos valores pares presentes nela é igual a {soma}.\")"
      ],
      "metadata": {
        "id": "KrGD5Nl5a1dz",
        "colab": {
          "base_uri": "https://localhost:8080/"
        },
        "outputId": "311cf2f4-0a07-46a1-efdc-d1445b92fab7"
      },
      "execution_count": 1,
      "outputs": [
        {
          "output_type": "stream",
          "name": "stdout",
          "text": [
            "A lista possui 17 números em que o maior número é 99 e o menor número é 11. A soma dos valores pares presentes nela é igual a 743.\n"
          ]
        }
      ]
    },
    {
      "cell_type": "markdown",
      "source": [
        "#### Questão 2\n",
        "\n",
        "Escreva uma função que gere a tabuada de um número inteiro de 1 a 10, de acordo com a escolha da pessoa usuária. Como exemplo, para o número 7, a tabuada deve ser mostrada no seguinte formato:\n",
        "```\n",
        "Tabuada do 7:\n",
        "7 x 0 = 0\n",
        "7 x 1 = 7\n",
        "[...]\n",
        "7 x 10 = 70\n",
        "```\n"
      ],
      "metadata": {
        "id": "435rt7sha1dz"
      }
    },
    {
      "cell_type": "code",
      "source": [
        "# Requisitando o número\n",
        "num = int(input(\"Digite um número inteiro de 1 a 10:\"))\n",
        "\n",
        "# Gerando a função tabuada()\n",
        "def tabuada(numero: int):\n",
        "  print(f'Tabuada do {numero}:')\n",
        "  for i in range(11):\n",
        "    resultado = numero * i\n",
        "    print(f'{numero} x {i} = {resultado}')\n",
        "\n",
        "# lendo a tabuada do número escolhido\n",
        "tabuada(num)"
      ],
      "metadata": {
        "id": "DxHuhb19a1d0",
        "colab": {
          "base_uri": "https://localhost:8080/"
        },
        "outputId": "80d6c8dd-4561-42f0-ee72-f6dd57904cc5"
      },
      "execution_count": 2,
      "outputs": [
        {
          "output_type": "stream",
          "name": "stdout",
          "text": [
            "Digite um número inteiro de 1 a 10:4\n",
            "Tabuada do 4:\n",
            "4 x 0 = 0\n",
            "4 x 1 = 4\n",
            "4 x 2 = 8\n",
            "4 x 3 = 12\n",
            "4 x 4 = 16\n",
            "4 x 5 = 20\n",
            "4 x 6 = 24\n",
            "4 x 7 = 28\n",
            "4 x 8 = 32\n",
            "4 x 9 = 36\n",
            "4 x 10 = 40\n"
          ]
        }
      ]
    },
    {
      "cell_type": "markdown",
      "source": [
        "#### Questão 3\n",
        "Crie a função que leia a lista abaixo e retorne uma nova lista com os múltiplos de 3:\n",
        "\n",
        "```\n",
        "[97, 80, 94, 88, 80, 1, 16, 53, 62, 32, 24, 99]\n",
        "```\n",
        "\n",
        "Utilize o `return` na função e salve a nova lista na variável `mult_3`."
      ],
      "metadata": {
        "id": "OwoNphMPa1d0"
      }
    },
    {
      "cell_type": "code",
      "source": [
        "# Lista gerada\n",
        "lista = [97, 80, 94, 88, 80, 1, 16, 53, 62, 32, 24, 99]\n",
        "\n",
        "# declarando a lista de multiplos de 3 \n",
        "mult_3 = []\n",
        "# função para gerar uma lista dos múltiplos de 3 a partir de uma lista\n",
        "def multiplo_3(lista: list) -> list:\n",
        "  for i in range(len(lista)):\n",
        "    # condição para um número ser múltiplo de 3\n",
        "    if lista[i] % 3 == 0:\n",
        "      mult_3.append(lista[i])\n",
        "  return mult_3\n",
        "\n",
        "# retornando a lista gerada para a variável mult_3\n",
        "mult_3 = multiplo_3(lista)\n",
        "mult_3"
      ],
      "metadata": {
        "id": "kYrKxhd8a1d0",
        "colab": {
          "base_uri": "https://localhost:8080/"
        },
        "outputId": "0561765c-7a95-4e90-8f43-c28047cfc54c"
      },
      "execution_count": 3,
      "outputs": [
        {
          "output_type": "execute_result",
          "data": {
            "text/plain": [
              "[24, 99]"
            ]
          },
          "metadata": {},
          "execution_count": 3
        }
      ]
    },
    {
      "cell_type": "markdown",
      "source": [
        "#### Questão 4\n",
        "Crie uma lista dos quadrados dos números da seguinte lista `[1, 2, 3, 4, 5, 6, 7, 8, 9, 10]`.\n",
        "\n",
        "Lembre-se de utilizar as funções lambda e `map()` para calcular o quadrado de cada elemento da lista.\n"
      ],
      "metadata": {
        "id": "kFkuo_SUa1d0"
      }
    },
    {
      "cell_type": "code",
      "source": [
        "# Lista dos números\n",
        "numeros = [1, 2, 3, 4, 5, 6, 7, 8, 9, 10]\n",
        "\n",
        "# Função lambda que eleva um número ao quadrado\n",
        "quadrado = lambda x: x ** 2\n",
        "\n",
        "# Utilizando a função map() para aplicar a função lambda em cada número da lista\n",
        "resultado = list(map(quadrado, numeros))\n",
        "resultado "
      ],
      "metadata": {
        "id": "Iav68EpKa1d0",
        "colab": {
          "base_uri": "https://localhost:8080/"
        },
        "outputId": "1fbfffd0-5295-4887-deb8-f64dca146241"
      },
      "execution_count": 4,
      "outputs": [
        {
          "output_type": "execute_result",
          "data": {
            "text/plain": [
              "[1, 4, 9, 16, 25, 36, 49, 64, 81, 100]"
            ]
          },
          "metadata": {},
          "execution_count": 4
        }
      ]
    },
    {
      "cell_type": "markdown",
      "source": [
        "### Aplicando a projetos"
      ],
      "metadata": {
        "id": "PX7G0Qgha1d0"
      }
    },
    {
      "cell_type": "markdown",
      "source": [
        "#### Questão 5\n",
        "\n",
        "Você foi contratado(a) como cientista de dados de uma associação de skate. Para analisar as notas recebidas dos(as) skatistas em algumas competições ao longo do ano, você precisa criar um código que calcula a pontuação dos(as) atletas. Para isso, o seu código deve receber 5 notas digitadas pelas pessoas juradas.\n",
        "\n",
        "Para calcular a pontuação de um(a) skatista, você precisa eliminar a maior e a menor pontuação dentre as 5 notas e tirar a média das 3 notas que sobraram.\n",
        "\n",
        "Retorne a média para apresentar o texto:\n",
        "`\"Nota da manobra: [media]\"`\n",
        "\n"
      ],
      "metadata": {
        "id": "oVWgrilxa1d0"
      }
    },
    {
      "cell_type": "code",
      "source": [
        "# declarando a lista de notas\n",
        "notas = []\n",
        "# laço for para pedir as 5 notas e armazená-las na lista notas\n",
        "for i in range(1,6):\n",
        "  nota = float(input(f\"Digite a {i}ª nota: \"))\n",
        "  notas.append(nota)\n",
        "\n",
        "# Função para remover a maior e menor nota e retornar a média das notas restantes\n",
        "def media(lista):\n",
        "  lista.remove(max(lista))\n",
        "  lista.remove(min(lista))\n",
        "  return sum(lista) / len(lista)\n",
        "\n",
        "# Chamando a função e imprimindo a nota da(o) skatista\n",
        "media = media(notas)\n",
        "print(f\"Nota da manobra: {round(media, 1)}\") "
      ],
      "metadata": {
        "id": "1nbQ-hIRa1d0",
        "colab": {
          "base_uri": "https://localhost:8080/"
        },
        "outputId": "c081b68d-815e-4011-db1b-9229b61e25e9"
      },
      "execution_count": 5,
      "outputs": [
        {
          "output_type": "stream",
          "name": "stdout",
          "text": [
            "Digite a 1ª nota: 5\n",
            "Digite a 2ª nota: 6\n",
            "Digite a 3ª nota: 7\n",
            "Digite a 4ª nota: 8\n",
            "Digite a 5ª nota: 9\n",
            "Nota da manobra: 7.0\n"
          ]
        }
      ]
    },
    {
      "cell_type": "markdown",
      "source": [
        "#### Questão 6\n",
        "\n",
        "Para atender a uma demanda de uma instituição de ensino para a análise do desempenho de seus(suas) estudantes, você precisa criar uma função que receba uma lista de 4 notas e retorne:\n",
        "- maior nota\n",
        "- menor nota\n",
        "- média\n",
        "- situação (Aprovado(a) ou Reprovado(a))\n",
        "\n",
        "Para testar o comportamento da função, os dados podem ser exibidos em um texto:\n",
        "```\n",
        "\"O(a) estudante obteve uma media de [media], com a sua maior nota de [maior] pontos e a menor nota de [menor] pontos e foi [situacao]\"\n",
        "```"
      ],
      "metadata": {
        "id": "p3MnWjnda1d0"
      }
    },
    {
      "cell_type": "code",
      "source": [
        "# declarando a lista de notas\n",
        "notas = []\n",
        "# laço for para pedir as 4 notas e armazená-las na lista notas\n",
        "for i in range(1,5):\n",
        "  nota = float(input(f\"Digite a {i}ª nota: \"))\n",
        "  notas.append(nota)\n",
        "\n",
        "def cadastro(lista):\n",
        "  maior = max(lista)\n",
        "  menor = min(lista)\n",
        "  media = sum(lista) / len(lista)\n",
        "  if media >= 6:\n",
        "    situacao = \"Aprovado(a)\"\n",
        "  else:\n",
        "    situacao = \"Reprovado(a)\"\n",
        "\n",
        "  return (media, maior, menor, situacao)\n",
        "\n",
        "media, maior, menor, situacao = cadastro(notas)\n",
        "\n",
        "print(f\"O(a) estudante obteve uma media de {media}, com a sua maior nota de {maior} pontos e a menor nota de {menor} pontos e foi {situacao}\")"
      ],
      "metadata": {
        "id": "5Bx-K65ya1d0",
        "colab": {
          "base_uri": "https://localhost:8080/"
        },
        "outputId": "113d615d-3498-41db-b348-aa5e6fb2dcab"
      },
      "execution_count": 6,
      "outputs": [
        {
          "output_type": "stream",
          "name": "stdout",
          "text": [
            "Digite a 1ª nota: 4\n",
            "Digite a 2ª nota: 5\n",
            "Digite a 3ª nota: 6\n",
            "Digite a 4ª nota: 7\n",
            "O(a) estudante obteve uma media de 5.5, com a sua maior nota de 7.0 pontos e a menor nota de 4.0 pontos e foi Reprovado(a)\n"
          ]
        }
      ]
    },
    {
      "cell_type": "markdown",
      "source": [
        "#### Questão 7\n",
        "\n",
        "Você recebeu uma demanda para tratar 2 listas com os nomes e sobrenomes de cada estudante concatenando-as para apresentar seus nomes completos na forma `Nome Sobrenome`.\n",
        "\n",
        "As listas são:\n",
        "```\n",
        "nomes = [\"joão\", \"MaRia\", \"JOSÉ\"]\n",
        "sobrenomes = [\"SILVA\", \"souza\", \"Tavares\"]\n",
        "```\n",
        "\n",
        "O texto exibido ao fim deve ser parecido com:\n",
        "```\n",
        "\"Nome completo: Ana Silva\"\n",
        "```\n",
        "\n",
        "> Dica: Utilize a função map para mapear os nomes e sobrenomes e as funções de string para tratar o texto."
      ],
      "metadata": {
        "id": "_sPZj_x9a1d0"
      }
    },
    {
      "cell_type": "code",
      "source": [
        "# Nomes dos estudantes\n",
        "nomes = [\"joão\", \"MaRia\", \"JOSÉ\"]\n",
        "sobrenomes = [\"SILVA\", \"souza\", \"Tavares\"]\n",
        "\n",
        "# Função lambda que recebe duas listas e itera em cada uma concatenando seu nome e sobrenome\n",
        "# na forma desejada\n",
        "nome_completo = map(lambda nome, sobrenome: f'{nome.title()} {sobrenome.title()}', nomes, sobrenomes)\n",
        "\n",
        "# Leitura do objeto mapa(iterável)\n",
        "for n in nome_completo:\n",
        "  print(f'Nome completo: {n}')"
      ],
      "metadata": {
        "id": "SdPq27E-a1d0",
        "colab": {
          "base_uri": "https://localhost:8080/"
        },
        "outputId": "a200cb5c-4036-4c80-dfa4-17fd292cbcc0"
      },
      "execution_count": 7,
      "outputs": [
        {
          "output_type": "stream",
          "name": "stdout",
          "text": [
            "Nome completo: João Silva\n",
            "Nome completo: Maria Souza\n",
            "Nome completo: José Tavares\n"
          ]
        }
      ]
    },
    {
      "cell_type": "markdown",
      "source": [
        "#### Questão 8\n",
        "Como cientista de dados em um time de futebol, você precisa implementar novas formas de coleta de dados sobre o desempenho de jogadores e do time como um todo.\n",
        "\n",
        "Sua primeira ação é criar uma forma de calcular a pontuação do time no campeonato nacional a partir dos dados de gols marcados e sofridos em cada jogo.\n",
        "\n",
        "Escreva uma função chamada `calcula_pontos` que recebe como parâmetros duas listas de números inteiros, representando os gols marcados e sofridos pelo time em cada partida do campeonato.\n",
        "\n",
        "A função deve retornar a pontuação do time e o aproveitamento em percentual, levando em consideração que a vitória vale 3 pontos, o empate vale 1 ponto e a derrota 0 pontos. \n",
        "\n",
        "> Observação: Se a quantidade de gols marcados numa partida for maior que a de sofridos, o time venceu. Caso seja igual, o time empatou e se for menor, o time perdeu. Para calcular o aproveitamento devemos fazer a razão entre a pontuação do time pela pontuação máxima que ele poderia receber. \n",
        "\n",
        "Para teste, utilize as seguintes listas de gols marcados e sofridos\n",
        "```\n",
        "gols_marcados = [2, 1, 3, 1, 0]\n",
        "gols_sofridos = [1, 2, 2, 1, 3]\n",
        "```\n",
        "\n",
        "Provável texto exibido:\n",
        "```\n",
        "\"A pontuação do time foi de [pontos] e seu aproveitamento foi de [aprov]%\"\n",
        "```\n"
      ],
      "metadata": {
        "id": "vC2D83mCa1d0"
      }
    },
    {
      "cell_type": "code",
      "source": [
        "gols_marcados = [2, 1, 3, 1, 0]\n",
        "gols_sofridos = [1, 2, 2, 1, 3]\n",
        "\n",
        "def calcula_pontos(gols_marcados, gols_sofridos):\n",
        "  pontos = 0\n",
        "  for i in range(len(gols_marcados)):\n",
        "    if gols_marcados[i] > gols_sofridos[i]:\n",
        "      pontos += 3\n",
        "    elif gols_marcados[i] == gols_sofridos[i]:\n",
        "      pontos += 1\n",
        "  aprov = 100 * pontos / (len(gols_marcados) * 3)\n",
        "  return (pontos, aprov)\n",
        "\n",
        "pontos, aprov = calcula_pontos(gols_marcados, gols_sofridos)\n",
        "print(f\"A pontuação do time foi de {pontos} e seu aproveitamento foi de {round(aprov)}%\")"
      ],
      "metadata": {
        "id": "zxOwouhta1d0",
        "colab": {
          "base_uri": "https://localhost:8080/"
        },
        "outputId": "888dfe87-fc42-436e-983d-6834893b3261"
      },
      "execution_count": 8,
      "outputs": [
        {
          "output_type": "stream",
          "name": "stdout",
          "text": [
            "A pontuação do time foi de 7 e seu aproveitamento foi de 47%\n"
          ]
        }
      ]
    },
    {
      "cell_type": "markdown",
      "source": [
        "#### Questão 9\n",
        "\n",
        "Você recebeu o desafio de criar um código que calcula os gastos de uma viagem para um das quatro cidades partindo de Recife: Salvador, Fortaleza, Natal e Aracaju.\n",
        "\n",
        "O custo da diária do hotel é de 150 reais em todas elas e o consumo de gasolina na viagem de carro é de 14 km/l, sendo que o valor da gasolina é de 5 reais o litro. O gastos com passeios e alimentação a se fazer em cada uma delas por dia seria de `[200, 400, 250, 300]`, respectivamente.\n",
        "\n",
        "Sabendo que as distâncias entre Recife e cada uma das cidades é de aproximadamente `[850, 800, 300, 550]` km, crie três funções nas quais a 1ª calcule os gastos com hotel (`gasto_hotel`), a 2ª calcule os gastos com a gasolina (`gasto_gasolina`) e a 3ª os gastos com passeio e alimentação (`gasto_passeio`). \n",
        "\n",
        "Para testar, simule uma viagem de 3 dias para Salvador partindo de Recife. Considere a viagem de ida e volta de carro.\n",
        "```\n",
        "\"Com base nos gastos definidos, uma viagem de [dias] dias para [cidade] saindo de Recife custaria [gastos] reais\"\n",
        "```\n"
      ],
      "metadata": {
        "id": "QrBlxV7Da1d0"
      }
    },
    {
      "cell_type": "code",
      "source": [
        "dias = int(input(\"Quantas diárias? \"))\n",
        "cidade = input(\"Qual a cidade? [Salvador, Fortaleza, Natal ou Aracaju]: \")\n",
        "distancias = [850, 800, 300, 550]\n",
        "passeio = [200, 400, 250, 300]\n",
        "km_l = 14\n",
        "gasolina = 5\n",
        "\n",
        "def gasto_hotel(dias):\n",
        "    return 150 * dias\n",
        "\n",
        "def gasto_gasolina(cidade):\n",
        "    if cidade == \"Salvador\":\n",
        "        return (2 * distancias[0] * gasolina) / km_l \n",
        "    elif cidade == \"Fortaleza\":\n",
        "        return (2 * distancias[1] * gasolina) / km_l \n",
        "    elif cidade == \"Natal\":\n",
        "        return (2 * distancias[2] * gasolina) / km_l \n",
        "    elif cidade == \"Aracaju\":\n",
        "        return (2 * distancias[3] * gasolina) / km_l \n",
        "\n",
        "def gasto_passeio(cidade, dias):\n",
        "    if cidade==\"Salvador\":\n",
        "        return passeio[0] * dias\n",
        "    elif cidade==\"Fortaleza\":\n",
        "        return passeio[1] * dias\n",
        "    elif cidade==\"Natal\":\n",
        "        return passeio[2] * dias \n",
        "    elif cidade==\"Aracaju\":\n",
        "        return passeio[3] * dias \n",
        "\n",
        "gastos = gasto_hotel(dias) + gasto_gasolina(cidade) + gasto_passeio(cidade, dias)\n",
        "print(f\"Com base nos gastos definidos, uma viagem de {dias} dias para {cidade} saindo de Recife custaria {round(gastos, 2)} reais\")"
      ],
      "metadata": {
        "id": "VQyaLsnWa1d0",
        "colab": {
          "base_uri": "https://localhost:8080/"
        },
        "outputId": "e7f75cec-535e-4a22-8f9f-48f503673fbe"
      },
      "execution_count": 9,
      "outputs": [
        {
          "output_type": "stream",
          "name": "stdout",
          "text": [
            "Quantas diárias? 12\n",
            "Qual a cidade? [Salvador, Fortaleza, Natal ou Aracaju]: Natal\n",
            "Com base nos gastos definidos, uma viagem de 12 dias para Natal saindo de Recife custaria 5014.29 reais\n"
          ]
        }
      ]
    },
    {
      "cell_type": "markdown",
      "source": [
        "#### Questão 10\n",
        "\n",
        "Você iniciou um estágio em uma empresa que trabalha com processamento de linguagem natural ([NLP](https://www.alura.com.br/artigos/guia-nlp-conceitos-tecnicas)). Sua líder requisitou que você criasse um trecho de código que recebe uma frase digitada pela pessoa usuária e filtre apenas as palavras com tamanho maior ou igual a 5, exibindo-as em uma lista. Essa demanda é voltada para a análise do padrão de comportamento de pessoas na escrita de palavras acima dessa quantidade de caracteres.\n",
        "\n",
        "> Dica: utilize as funções lambda e [`filter()`](https://docs.python.org/pt-br/3/library/functions.html?highlight=filter#filter) para filtrar essas palavras. Lembrando que a função embutida `filter()` recebe uma função (no nosso exemplo uma função lambda) e filtra um iterável de acordo com a função. Para tratar a frase use `replace()` para trocar a ',' '.', '!' e '?' por espaço.\n",
        "\n",
        "Use a frase `\"Aprender Python aqui na Alura é muito bom\"`para testar o código"
      ],
      "metadata": {
        "id": "Uae8o3eMa1d1"
      }
    },
    {
      "cell_type": "code",
      "source": [
        "# Requisitando uma frase e separando-a pelos espaços. Usando replace para trocar\n",
        "# pontuações por espaço.\n",
        "frase = input(\"Digite uma frase: \")\n",
        "frase = frase.replace(',',' ').replace('.',' ').replace('!',' ').replace('?',' ').split()\n",
        "\n",
        "# Filtrando a frase no formato de lista, passando para a lista tamanho\n",
        "# apenas as palavras com 5 ou mais caracteres e imprimindo-a na tela\n",
        "tamanho = list(filter(lambda x: len(x) >= 5, frase))\n",
        "print(tamanho)"
      ],
      "metadata": {
        "id": "_WxPiZWtpWoX",
        "colab": {
          "base_uri": "https://localhost:8080/"
        },
        "outputId": "6772e81d-4fe4-46c2-b167-86be20e97da9"
      },
      "execution_count": 11,
      "outputs": [
        {
          "output_type": "stream",
          "name": "stdout",
          "text": [
            "Digite uma frase: Aprender Python aqui na Alura é muito bom\"\n",
            "['Aprender', 'Python', 'Alura', 'muito']\n"
          ]
        }
      ]
    },
    {
      "cell_type": "markdown",
      "source": [
        "## Aula 3 - Estrutura de dados compostas"
      ],
      "metadata": {
        "id": "u_KhhnCfh3ST"
      }
    },
    {
      "cell_type": "markdown",
      "source": [
        "### Aquecimento"
      ],
      "metadata": {
        "id": "6cya3lleh3SU"
      }
    },
    {
      "cell_type": "markdown",
      "source": [
        "#### Questão 1\n",
        "\n",
        "Crie um código para imprimir a soma dos elementos de cada uma das listas contidas na seguinte lista:\n",
        "```\n",
        "lista_de_listas = [[4,6,5,9], [1,0,7,2], [3,4,1,8]]\n",
        "```"
      ],
      "metadata": {
        "id": "MLv8mbbth3SU"
      }
    },
    {
      "cell_type": "code",
      "source": [
        "lista_de_listas = [[4,6,5,9], [1,0,7,2], [3,4,1,8]]\n"
      ],
      "metadata": {
        "id": "9CUwvBJn3NVD"
      },
      "execution_count": 3,
      "outputs": []
    },
    {
      "cell_type": "code",
      "source": [
        "for lista in lista_de_listas:\n",
        "  print(sum(lista))"
      ],
      "metadata": {
        "id": "P9dywp1xh3SU",
        "colab": {
          "base_uri": "https://localhost:8080/"
        },
        "outputId": "f0c72238-2dae-48e2-b9d8-469be5a022c1"
      },
      "execution_count": 4,
      "outputs": [
        {
          "output_type": "stream",
          "name": "stdout",
          "text": [
            "24\n",
            "10\n",
            "16\n"
          ]
        }
      ]
    },
    {
      "cell_type": "markdown",
      "source": [
        "#### Questão 2\n",
        "\n",
        "Crie um código para gerar uma lista que armazena o terceiro elemento de cada tupla contida na seguinte lista de tuplas:\n",
        "```\n",
        "lista_de_tuplas = [('Pedro', 1.74, 81), ('Júlia', 1.65, 67), ('Otávio', 1.81, 83)]\n",
        "```"
      ],
      "metadata": {
        "id": "C72i8R3Ih3SU"
      }
    },
    {
      "cell_type": "code",
      "source": [
        "lista_de_tuplas = [('Pedro', 1.74, 81), ('Júlia', 1.65, 67), ('Otávio', 1.81, 83)]\n"
      ],
      "metadata": {
        "id": "S9EL1Bvjh3SU"
      },
      "execution_count": 5,
      "outputs": []
    },
    {
      "cell_type": "code",
      "source": [
        "lista = []\n",
        "for tupla in lista_de_tuplas:\n",
        "    lista.append(tupla[2])\n",
        "print(lista)"
      ],
      "metadata": {
        "colab": {
          "base_uri": "https://localhost:8080/"
        },
        "id": "bIT2xjD-3ZSn",
        "outputId": "519032d1-965f-44c5-d34f-04441739b10f"
      },
      "execution_count": 6,
      "outputs": [
        {
          "output_type": "stream",
          "name": "stdout",
          "text": [
            "[81, 67, 83]\n"
          ]
        }
      ]
    },
    {
      "cell_type": "markdown",
      "source": [
        "#### Questão 3\n",
        "A partir da lista: `lista = ['Pedro', 'Júlia', 'Otávio', 'Eduardo']`, crie um código para gerar uma lista de tuplas em que cada tupla tenha o primeiro elemento como a posição do nome na lista original e o segundo elemento sendo o próprio nome."
      ],
      "metadata": {
        "id": "e5ni69Lwh3SU"
      }
    },
    {
      "cell_type": "code",
      "source": [
        "lista = ['Pedro', 'Júlia', 'Otávio', 'Eduardo']"
      ],
      "metadata": {
        "id": "x3ckJThph3SU"
      },
      "execution_count": 9,
      "outputs": []
    },
    {
      "cell_type": "code",
      "source": [
        "lista_de_tuplas = []\n",
        "for i in range(len(lista)):\n",
        "    lista_de_tuplas.append((i, lista[i]))\n",
        "print(lista_de_tuplas)"
      ],
      "metadata": {
        "colab": {
          "base_uri": "https://localhost:8080/"
        },
        "id": "3_WFGVqBJKhs",
        "outputId": "af5a9d53-04cd-4781-c4dc-c38343d3a440"
      },
      "execution_count": 10,
      "outputs": [
        {
          "output_type": "stream",
          "name": "stdout",
          "text": [
            "[(0, 'Pedro'), (1, 'Júlia'), (2, 'Otávio'), (3, 'Eduardo')]\n"
          ]
        }
      ]
    },
    {
      "cell_type": "markdown",
      "source": [
        "#### Questão 4\n",
        "Crie uma lista usando o list comprehension, que armazena somente o valor numérico de cada tupla caso o primeiro elemento seja 'Apartamento' a partir da seguinte lista de tuplas:\n",
        "```\n",
        "aluguel = [('Apartamento', 1700), ('Apartamento', 1400), ('Casa', 2150), ('Apartamento', 1900), ('Casa', 1100)]\n",
        "```\n",
        "\n"
      ],
      "metadata": {
        "id": "mtuC2qBLh3SU"
      }
    },
    {
      "cell_type": "code",
      "source": [
        "aluguel = [('Apartamento', 1700), ('Apartamento', 1400), ('Casa', 2150), ('Apartamento', 1900), ('Casa', 1100)]\n"
      ],
      "metadata": {
        "id": "H1S8yT64h3SU"
      },
      "execution_count": 11,
      "outputs": []
    },
    {
      "cell_type": "code",
      "source": [
        "lista = [tupla[1] for tupla in aluguel if tupla[0]== 'Apartamento']\n",
        "print(lista)"
      ],
      "metadata": {
        "colab": {
          "base_uri": "https://localhost:8080/"
        },
        "id": "yY9qqQPnJU52",
        "outputId": "a867323b-d0cd-4434-8c64-eb2f50d5f52f"
      },
      "execution_count": 12,
      "outputs": [
        {
          "output_type": "stream",
          "name": "stdout",
          "text": [
            "[1700, 1400, 1900]\n"
          ]
        }
      ]
    },
    {
      "cell_type": "markdown",
      "source": [
        "#### Questão 5\n",
        "\n",
        "Crie um dicionário usando o dict comprehension em que as chaves estão na lista `meses = ['Jan', 'Fev', 'Mar', 'Abr', 'Mai', 'Jun', 'Jul', 'Ago', 'Set', 'Out', 'Nov', 'Dez']` e os valores estão na lista `despesa = [860, 490, 1010, 780, 900, 630, 590, 770, 620, 560, 840, 360]`\n",
        "\n"
      ],
      "metadata": {
        "id": "Bd-Xp_iKh3SU"
      }
    },
    {
      "cell_type": "code",
      "source": [
        "meses = ['Jan', 'Fev', 'Mar', 'Abr', 'Mai', 'Jun', 'Jul', 'Ago', 'Set', 'Out', 'Nov', 'Dez']\n",
        "despesa = [860, 490, 1010, 780, 900, 630, 590, 770, 620, 560, 840, 360]"
      ],
      "metadata": {
        "id": "y7c5ickkh3SV"
      },
      "execution_count": 13,
      "outputs": []
    },
    {
      "cell_type": "code",
      "source": [
        "dicionario = {meses[i]: despesa[i] for i in range(len(meses))}\n",
        "print(dicionario)"
      ],
      "metadata": {
        "colab": {
          "base_uri": "https://localhost:8080/"
        },
        "id": "mTsdIsgeJjEa",
        "outputId": "8a42a6ba-a2cc-4da5-8436-6a349df48428"
      },
      "execution_count": 14,
      "outputs": [
        {
          "output_type": "stream",
          "name": "stdout",
          "text": [
            "{'Jan': 860, 'Fev': 490, 'Mar': 1010, 'Abr': 780, 'Mai': 900, 'Jun': 630, 'Jul': 590, 'Ago': 770, 'Set': 620, 'Out': 560, 'Nov': 840, 'Dez': 360}\n"
          ]
        }
      ]
    },
    {
      "cell_type": "markdown",
      "source": [
        "### Aplicando a projetos"
      ],
      "metadata": {
        "id": "T9XuUQIph3SU"
      }
    },
    {
      "cell_type": "markdown",
      "source": [
        "#### Questão 6\n",
        "\n",
        "Uma loja possui um banco de dados com a informação de venda de cada representante e de cada ano e precisa filtrar somente os dados do ano 2022 com venda maior do que 6000. A loja forneceu uma amostra contendo apenas as colunas com os anos e os valores de venda para que você ajude a realizar a filtragem dos dados a partir de um código:\n",
        "```\n",
        "vendas = [('2023', 4093), ('2021', 4320), ('2021', 5959), ('2022', 8883), ('2023', 9859), ('2022', 5141), ('2022', 7688), ('2022', 9544), ('2023', 4794), ('2021', 7178), ('2022', 3030), ('2021', 7471), ('2022', 4226), ('2022', 8190), ('2021', 9680), ('2022', 5616)]\n",
        "```\n",
        "Crie uma lista usando list comprehension para filtrar os valores de 2022 e que sejam maiores que 6000.\n"
      ],
      "metadata": {
        "id": "WrgAw6a0h3SV"
      }
    },
    {
      "cell_type": "code",
      "source": [
        "vendas = [('2023', 4093), ('2021', 4320), ('2021', 5959), ('2022', 8883), ('2023', 9859), ('2022', 5141), ('2022', 7688), ('2022', 9544), ('2023', 4794), ('2021', 7178), ('2022', 3030), ('2021', 7471), ('2022', 4226), ('2022', 8190), ('2021', 9680), ('2022', 5616)]\n"
      ],
      "metadata": {
        "id": "jQvbtw2sh3SV"
      },
      "execution_count": 15,
      "outputs": []
    },
    {
      "cell_type": "code",
      "source": [
        "filtro = [tupla[1] for tupla in vendas if tupla[0] == '2022' and tupla[1] > 6000]\n",
        "print(filtro)"
      ],
      "metadata": {
        "colab": {
          "base_uri": "https://localhost:8080/"
        },
        "id": "BOj7JjYnJrr6",
        "outputId": "2c3939ce-5e9b-4b46-f481-c1f3d69354bc"
      },
      "execution_count": 16,
      "outputs": [
        {
          "output_type": "stream",
          "name": "stdout",
          "text": [
            "[8883, 7688, 9544, 8190]\n"
          ]
        }
      ]
    },
    {
      "cell_type": "markdown",
      "source": [
        "#### Questão 7\n",
        "\n",
        "Uma clínica analisa dados de pacientes e armazena o valor numérico da glicose em um banco de dados e gostaria de rotular os dados da seguinte maneira:\n",
        "\n",
        "- Glicose igual ou inferior a 70: 'Hipoglicemia'\n",
        "- Glicose entre 70 a 99: 'Normal'\n",
        "- Glicose entre 100 e 125: 'Alterada'\n",
        "- Glicose superior a 125: 'Diabetes'\n",
        "\n",
        "A clínica disponibilizou parte dos valores e sua tarefa é criar uma lista de tuplas usando list comprehension contendo o rótulo e o valor da glicemia em cada tupla.\n",
        "\n",
        "```\n",
        "glicemia = [129, 82, 60, 97, 101, 65, 62, 167, 87, 53, 58, 92, 66, 120, 109, 62, 86, 96, 103, 88, 155, 52, 89, 73]\n",
        "```"
      ],
      "metadata": {
        "id": "8Hl7OgcQh3SV"
      }
    },
    {
      "cell_type": "code",
      "source": [
        "glicemia = [129, 82, 60, 97, 101, 65, 62, 167, 87, 53, 58, 92, 66, 120, 109, 62, 86, 96, 103, 88, 155, 52, 89, 73]\n"
      ],
      "metadata": {
        "id": "cIDqBZrxh3SV"
      },
      "execution_count": 17,
      "outputs": []
    },
    {
      "cell_type": "code",
      "source": [
        "rotulos = [('Hipoglicemia', glicose) if glicose <= 70 else ('Normal', glicose) if glicose < 100 else ('Alterada', glicose) if glicose < 125 else ('Diabetes', glicose) for glicose in glicemia]\n",
        "print(rotulos)"
      ],
      "metadata": {
        "colab": {
          "base_uri": "https://localhost:8080/"
        },
        "id": "U-1BfI8xJ7Mm",
        "outputId": "876d3ef1-5784-445b-e049-cee2c632506c"
      },
      "execution_count": 18,
      "outputs": [
        {
          "output_type": "stream",
          "name": "stdout",
          "text": [
            "[('Diabetes', 129), ('Normal', 82), ('Hipoglicemia', 60), ('Normal', 97), ('Alterada', 101), ('Hipoglicemia', 65), ('Hipoglicemia', 62), ('Diabetes', 167), ('Normal', 87), ('Hipoglicemia', 53), ('Hipoglicemia', 58), ('Normal', 92), ('Hipoglicemia', 66), ('Alterada', 120), ('Alterada', 109), ('Hipoglicemia', 62), ('Normal', 86), ('Normal', 96), ('Alterada', 103), ('Normal', 88), ('Diabetes', 155), ('Hipoglicemia', 52), ('Normal', 89), ('Normal', 73)]\n"
          ]
        }
      ]
    },
    {
      "cell_type": "markdown",
      "source": [
        "#### Questão 8\n",
        "Um e-commerce possui as informações de id de venda, quantidade vendida e preço do produto divididos nas seguintes listas:\n",
        "\n",
        "```\n",
        "id = [0, 1, 2, 3, 4, 5, 6, 7, 8, 9]\n",
        "quantidade = [15, 12, 1, 15, 2, 11, 2, 12, 2, 4]\n",
        "preco = [93.0, 102.0, 18.0, 41.0, 122.0, 14.0, 71.0, 48.0, 14.0, 144.0]\n",
        "```\n",
        "\n",
        "O e-commerce precisa estruturar esses dados em uma tabela contendo o valor total da venda, que é obtida multiplicando a quantidade pelo preço unitário. Além disso, tabela precisa conter um cabeçalho indicando as colunas: 'id', 'quantidade', 'preco' e 'total'. \n",
        "\n",
        "Crie uma lista de tuplas em que cada tupla tenha um id, quantidade, preço e valor total, na qual a primeira tupla é o cabeçalho da tabela.\n"
      ],
      "metadata": {
        "id": "twYIfol8h3SV"
      }
    },
    {
      "cell_type": "code",
      "source": [
        "id = [0, 1, 2, 3, 4, 5, 6, 7, 8, 9]\n",
        "quantidade = [15, 12, 1, 15, 2, 11, 2, 12, 2, 4]\n",
        "preco = [93.0, 102.0, 18.0, 41.0, 122.0, 14.0, 71.0, 48.0, 14.0, 144.0]"
      ],
      "metadata": {
        "id": "XnmvwiIwh3SV"
      },
      "execution_count": 19,
      "outputs": []
    },
    {
      "cell_type": "code",
      "source": [
        "tabela = [('id', 'quantidade', 'preco', 'total')]\n",
        "tabela += [(id[i], quantidade[i], preco[i], quantidade[i]*preco[i]) for i in range(len(id))]"
      ],
      "metadata": {
        "id": "Kbs1tqPMKChO"
      },
      "execution_count": 26,
      "outputs": []
    },
    {
      "cell_type": "markdown",
      "source": [
        "#### Questão 9\n",
        "\n",
        "Uma empresa possui filiais espalhadas nos estados da região sudeste do Brasil. Em uma das tabelas de cadastro das filiais, há uma coluna contendo a informação de qual é o estado a que pertence: \n",
        "```\n",
        "estados = ['SP', 'ES', 'MG', 'MG', 'SP', 'MG', 'ES', 'ES', 'ES', 'SP', 'SP', 'MG', 'ES', 'SP', 'RJ', 'MG', 'RJ', 'SP', 'MG', 'SP', 'ES', 'SP', 'MG']\n",
        "```\n",
        "\n",
        "A empresa sempre está abrindo novas filiais, de modo que a tabela está constantemente recebendo novos registros e o gestor gostaria de possuir a informação atualizada da quantidade de filiais em cada estado. A partir da coluna com a informação dos estados, crie um dicionário usando dict comprehension com a chave sendo o nome de um estado e o valor sendo a contagem de vezes em que o estado aparece na lista.\n",
        "\n",
        "> Dica: Você pode fazer um passo intermediário para gerar uma lista de listas em que cada uma das listas possui o nome de apenas um estado com valores repetidos."
      ],
      "metadata": {
        "id": "9tMZEiPzh3SV"
      }
    },
    {
      "cell_type": "code",
      "source": [
        "estados = ['SP', 'ES', 'MG', 'MG', 'SP', 'MG', 'ES', 'ES', 'ES', 'SP', 'SP', 'MG', 'ES', 'SP', 'RJ', 'MG', 'RJ', 'SP', 'MG', 'SP', 'ES', 'SP', 'MG']\n"
      ],
      "metadata": {
        "id": "qXU5UMUih3SV"
      },
      "execution_count": 27,
      "outputs": []
    },
    {
      "cell_type": "code",
      "source": [
        "# Armazenando os estados sem repetição de valor\n",
        "estados_unicos = list(set(estados))\n",
        "\n",
        "# Criando uma lista de listas com valores repetidos de cada estado\n",
        "lista_de_listas = []\n",
        "for estado in estados_unicos:\n",
        "    lista = [uf for uf in estados if uf == estado]\n",
        "    lista_de_listas.append(lista)\n",
        "print(lista_de_listas)\n",
        "\n",
        "# Criando um dicionário em que a chave é o nome de cada estado único e o valor é a contagem de elementos\n",
        "contagem_valores = {estados_unicos[i]: len(lista_de_listas[i]) for i in range(len(estados_unicos))}\n",
        "print(contagem_valores)"
      ],
      "metadata": {
        "colab": {
          "base_uri": "https://localhost:8080/"
        },
        "id": "MJ3GZbuwKnha",
        "outputId": "8f4417bf-3ca9-4148-bae3-07f92d384a60"
      },
      "execution_count": 28,
      "outputs": [
        {
          "output_type": "stream",
          "name": "stdout",
          "text": [
            "[['SP', 'SP', 'SP', 'SP', 'SP', 'SP', 'SP', 'SP'], ['ES', 'ES', 'ES', 'ES', 'ES', 'ES'], ['RJ', 'RJ'], ['MG', 'MG', 'MG', 'MG', 'MG', 'MG', 'MG']]\n",
            "{'SP': 8, 'ES': 6, 'RJ': 2, 'MG': 7}\n"
          ]
        }
      ]
    },
    {
      "cell_type": "markdown",
      "source": [
        "#### Questão 10\n",
        "\n",
        "Nessa mesma tabela de cadastro de filiais, há uma coluna com as informações da quantidade de funcionários e o gestor gostaria de ter um agrupamento da soma de funcionários para cada estado. As informações contidas na tabela são: \n",
        "\n",
        "```\n",
        "funcionarios = [('SP', 16), ('ES', 8), ('MG', 9), ('MG', 6), ('SP', 10), ('MG', 4), ('ES',9), ('ES', 7), ('ES', 12), ('SP', 7), ('SP', 11), ('MG',8), ('ES',8), ('SP',9), ('RJ', 13), ('MG', 5), ('RJ', 9), ('SP', 12), ('MG', 10), ('SP', 7), ('ES', 14), ('SP', 10), ('MG', 12)]\n",
        "```\n",
        "\n",
        "A partir da lista de tuplas, crie um dicionário em que as chaves são os nomes dos estados únicos e os valores são as listas com o número de funcionários referentes ao estado. Crie também um dicionário em que as chaves são os nomes dos estados e os valores são a soma de funcionários(as) por estado.\n",
        "\n",
        "> Dica: Você pode fazer um passo intermediário para gerar uma lista de listas em que cada uma das listas possui apenas os valores numéricos de funcionários de cada estado.\n"
      ],
      "metadata": {
        "id": "JONqYFZjh3SV"
      }
    },
    {
      "cell_type": "code",
      "source": [
        "funcionarios = [('SP', 16), ('ES', 8), ('MG', 9), ('MG', 6), ('SP', 10), ('MG', 4), ('ES',9), ('ES', 7), ('ES', 12), ('SP', 7), ('SP', 11), ('MG',8), ('ES',8), ('SP',9), ('RJ', 13), ('MG', 5), ('RJ', 9), ('SP', 12), ('MG', 10), ('SP', 7), ('ES', 14), ('SP', 10), ('MG', 12)]\n"
      ],
      "metadata": {
        "id": "UM1DHuzlK14u"
      },
      "execution_count": 29,
      "outputs": []
    },
    {
      "cell_type": "code",
      "source": [
        "# Armazenando os estados sem repetição de valor\n",
        "estados_unicos = list(set([tupla[0] for tupla in funcionarios]))\n",
        "\n",
        "# Criando uma lista de listas com valores de funcionários de cada estado\n",
        "lista_de_listas = []\n",
        "for estado in estados_unicos:\n",
        "    lista = [tupla[1] for tupla in funcionarios if tupla[0] == estado]\n",
        "    lista_de_listas.append(lista)\n",
        "print(lista_de_listas)\n",
        "\n",
        "# Criando um dicionário com dados agrupados de funcionário por estado\n",
        "agrupamento_por_estado = {estados_unicos[i]: lista_de_listas[i] for i in range(len(estados_unicos))}\n",
        "print(agrupamento_por_estado)\n",
        "\n",
        "# Criando um dicionário com a soma de funcionários por estado\n",
        "soma_por_estado = {estados_unicos[i]: sum(lista_de_listas[i]) for i in range(len(estados_unicos))}\n",
        "print(soma_por_estado)"
      ],
      "metadata": {
        "id": "lq42ThQNh3SV",
        "colab": {
          "base_uri": "https://localhost:8080/"
        },
        "outputId": "cd269431-f9d9-42c4-96a7-0d30d9077d8f"
      },
      "execution_count": 30,
      "outputs": [
        {
          "output_type": "stream",
          "name": "stdout",
          "text": [
            "[[16, 10, 7, 11, 9, 12, 7, 10], [8, 9, 7, 12, 8, 14], [13, 9], [9, 6, 4, 8, 5, 10, 12]]\n",
            "{'SP': [16, 10, 7, 11, 9, 12, 7, 10], 'ES': [8, 9, 7, 12, 8, 14], 'RJ': [13, 9], 'MG': [9, 6, 4, 8, 5, 10, 12]}\n",
            "{'SP': 82, 'ES': 58, 'RJ': 22, 'MG': 54}\n"
          ]
        }
      ]
    },
    {
      "cell_type": "markdown",
      "source": [
        "## Aula 4 - Lidando com exceções"
      ],
      "metadata": {
        "id": "ckCXdwLdjYgM"
      }
    },
    {
      "cell_type": "markdown",
      "source": [
        "### Aquecimento"
      ],
      "metadata": {
        "id": "OPBXL2tLjYgM"
      }
    },
    {
      "cell_type": "markdown",
      "source": [
        "#### Questão 1\n",
        "\n",
        "Faça um programa que solicite à pessoa usuária digitar dois números `float` e calcular a divisão entre esses números. O código deve conter um tratamento de erro, indicando o tipo de erro que foi gerado caso a divisão não seja possível de realizar.\n",
        "\n",
        "Teste o programa com o segundo valor numérico do input igual a 0 e também teste utilizando caracteres textuais no input para checar os tipos de erro que ocorrem."
      ],
      "metadata": {
        "id": "7z7VpY0ujYgM"
      }
    },
    {
      "cell_type": "code",
      "source": [
        "try:\n",
        "    numero_1 = float(input())\n",
        "    numero_2 = float(input())\n",
        "    divisao = numero_1 / numero_2\n",
        "except Exception as e:\n",
        "    print(type(e), f'Erro: {e}')"
      ],
      "metadata": {
        "id": "Zg1CLRTxjYgM",
        "colab": {
          "base_uri": "https://localhost:8080/"
        },
        "outputId": "0318cab0-2882-44e2-8853-704fa97d1398"
      },
      "execution_count": 1,
      "outputs": [
        {
          "name": "stdout",
          "output_type": "stream",
          "text": [
            "3\n",
            "3\n"
          ]
        }
      ]
    },
    {
      "cell_type": "markdown",
      "source": [
        "#### Questão 2\n",
        "\n",
        "Faça um programa que solicite à pessoa usuária digitar um texto que será uma chave a ser pesquisada no seguinte dicionário: `idades = {'Júlia': 16, 'Carol': 23, 'Alberto': 19, 'Roberta': 17}`, armazenando o resultado do valor em uma variável. O código deve conter um tratamento de erro `KeyError`, imprimindo a informação 'Nome não encontrado' caso ocorra o erro e imprimir o valor caso não ocorra nenhum.\n",
        "\n",
        "Teste o programa com um nome presente em uma das chaves do dicionário e com um que não esteja no dicionário para verificar a mensagem de erro.\n",
        "\n"
      ],
      "metadata": {
        "id": "KYgeJS5ljYgM"
      }
    },
    {
      "cell_type": "code",
      "source": [
        "try:\n",
        "    chave = input()\n",
        "    valor = idades[chave]\n",
        "except KeyError:\n",
        "    print('Nome não encontrado')\n",
        "else:\n",
        "    print(valor)"
      ],
      "metadata": {
        "id": "mcTh-_tDjYgM",
        "colab": {
          "base_uri": "https://localhost:8080/",
          "height": 253
        },
        "outputId": "70393f90-383f-42f3-e451-a28cdd4bb95a"
      },
      "execution_count": 2,
      "outputs": [
        {
          "name": "stdout",
          "output_type": "stream",
          "text": [
            "8\n"
          ]
        },
        {
          "output_type": "error",
          "ename": "NameError",
          "evalue": "ignored",
          "traceback": [
            "\u001b[0;31m---------------------------------------------------------------------------\u001b[0m",
            "\u001b[0;31mNameError\u001b[0m                                 Traceback (most recent call last)",
            "\u001b[0;32m<ipython-input-2-ffdac88bb304>\u001b[0m in \u001b[0;36m<cell line: 1>\u001b[0;34m()\u001b[0m\n\u001b[1;32m      1\u001b[0m \u001b[0;32mtry\u001b[0m\u001b[0;34m:\u001b[0m\u001b[0;34m\u001b[0m\u001b[0;34m\u001b[0m\u001b[0m\n\u001b[1;32m      2\u001b[0m     \u001b[0mchave\u001b[0m \u001b[0;34m=\u001b[0m \u001b[0minput\u001b[0m\u001b[0;34m(\u001b[0m\u001b[0;34m)\u001b[0m\u001b[0;34m\u001b[0m\u001b[0;34m\u001b[0m\u001b[0m\n\u001b[0;32m----> 3\u001b[0;31m     \u001b[0mvalor\u001b[0m \u001b[0;34m=\u001b[0m \u001b[0midades\u001b[0m\u001b[0;34m[\u001b[0m\u001b[0mchave\u001b[0m\u001b[0;34m]\u001b[0m\u001b[0;34m\u001b[0m\u001b[0;34m\u001b[0m\u001b[0m\n\u001b[0m\u001b[1;32m      4\u001b[0m \u001b[0;32mexcept\u001b[0m \u001b[0mKeyError\u001b[0m\u001b[0;34m:\u001b[0m\u001b[0;34m\u001b[0m\u001b[0;34m\u001b[0m\u001b[0m\n\u001b[1;32m      5\u001b[0m     \u001b[0mprint\u001b[0m\u001b[0;34m(\u001b[0m\u001b[0;34m'Nome não encontrado'\u001b[0m\u001b[0;34m)\u001b[0m\u001b[0;34m\u001b[0m\u001b[0;34m\u001b[0m\u001b[0m\n",
            "\u001b[0;31mNameError\u001b[0m: name 'idades' is not defined"
          ]
        }
      ]
    },
    {
      "cell_type": "markdown",
      "source": [
        "#### Questão 3\n",
        "Crie uma função que recebe uma lista como parâmetro e converta todos os valores da lista para `float`. A função deve conter um tratamento de erro indicando o tipo de erro gerado e retornar a lista caso não tenha ocorrido nenhum erro. Por fim, deve ter a cláusula `finally` para imprimir o texto: 'Fim da execução da função'."
      ],
      "metadata": {
        "id": "tGQNNI_PjYgM"
      }
    },
    {
      "cell_type": "code",
      "source": [
        "def converte_lista(lista):\n",
        "    try:\n",
        "        nova_lista = [float(elemento) for elemento in lista]\n",
        "    except Exception as e:\n",
        "        print(type(e), f'Erro: {e}')\n",
        "    else:\n",
        "        return nova_lista\n",
        "    finally:\n",
        "        print('Fim da execução da função')"
      ],
      "metadata": {
        "id": "1oflR6ywjYgN"
      },
      "execution_count": 3,
      "outputs": []
    },
    {
      "cell_type": "markdown",
      "source": [
        "#### Questão 4\n",
        "Crie uma função que recebe duas listas como parâmetros e agrupe os elementos um a um das listas, formando uma lista de tuplas de 3 elementos, onde o primeiro e segundo elemento da tupla são os valores na posição `i` das listas e o terceiro elemento é a soma dos valores na posição `i` das listas. A função deve conter um tratamento de erro indicando o tipo de erro gerado e retornar como resultado a lista de tuplas. Caso as listas enviadas como parâmetro tenham tamanhos diferentes, a função deve retornar um IndexError com a frase: 'A quantidade de elementos em cada lista é diferente.' \n",
        "\n",
        "Dados para testar a função:\n",
        "\n",
        "Valores sem erro:\n",
        "```\n",
        "lista1 = [4,6,7,9,10]\n",
        "lista 2 = [-4,6,8,7,9]\n",
        "```\n",
        "Listas com tamanhos diferentes:\n",
        "\n",
        "```\n",
        "lista1 = [4,6,7,9,10,4]\n",
        "lista 2 = [-4,6,8,7,9]\n",
        "```\n",
        "Listas com valores incoerentes:\n",
        "\n",
        "```\n",
        "lista1 = [4,6,7,9,'A']\n",
        "lista 2 = [-4,'E',8,7,9]\n",
        "```"
      ],
      "metadata": {
        "id": "WWE44VS4jYgN"
      }
    },
    {
      "cell_type": "code",
      "source": [],
      "metadata": {
        "id": "iMjbUztBjYgN"
      },
      "execution_count": null,
      "outputs": []
    },
    {
      "cell_type": "markdown",
      "source": [
        "### Aplicando a projetos"
      ],
      "metadata": {
        "id": "vNSw4u6hjYgN"
      }
    },
    {
      "cell_type": "markdown",
      "source": [
        "#### Questão 5\n",
        "\n",
        "Você recebeu como desafio desenvolver um código que contabiliza as pontuações de estudantes de uma instituição de ensino de acordo com suas respostas num teste. \n",
        "\n",
        "Este código deve ser testado para um exemplo de 3 estudantes com uma lista de listas em que cada lista possui as respostas de 5 questões objetivas de cada estudante. Cada questão vale um ponto e as alternativas possíveis são A, B, C ou D. \n",
        "\n",
        "Caso alguma alternativa em um dos testes não esteja entre as alternativas possíveis você deve lançar um **ValueError** com a mensagem `\"A alternativa [alternativa] não é uma opção de alternativa válida\"`. O cálculo das 3 notas só será realizado mediante as entradas com as alternativas A, B, C ou D em todos os testes.\n",
        "\n",
        "Se não for lançada a exceção, será exibida uma lista com as notas em cada teste.\n",
        "\n",
        "Os dados para o teste do código são:\n",
        "\n",
        "- **Gabarito da prova**:\n",
        "```\n",
        "gabarito = ['D', 'A', 'B', 'C', 'A']\n",
        "```\n",
        "Abaixo temos 2 listas de listas que você pode usar como teste\n",
        "\n",
        "- **Notas sem exceção:**\n",
        "```\n",
        "testes_sem_ex = [['D', 'A', 'B', 'C', 'A'], ['C', 'A', 'A', 'C', 'A'], ['D', 'B', 'A', 'C', 'A']]\n",
        "```\n",
        "- **Notas com exceção:**\n",
        "```\n",
        "testes_com_ex = [['D', 'A', 'B', 'C', 'A'], ['C', 'A', 'A', 'E', 'A'], ['D', 'B', 'A', 'C', 'A']]\n",
        "```\n",
        "\n",
        "> Dica: Para verificar se uma entrada da lista não está entre as alternativas possíveis use a estrutura `lista[i] not in ['A','B','C','D']` (Por exemplo, `1 not in [2,3,4]`... Saída: `True`) "
      ],
      "metadata": {
        "id": "AHC6OFQDjYgN"
      }
    },
    {
      "cell_type": "code",
      "source": [
        "# Função para correção das notas\n"
      ],
      "metadata": {
        "id": "n7AJhrMpjYgN"
      },
      "execution_count": null,
      "outputs": []
    },
    {
      "cell_type": "code",
      "source": [
        "# Testando no exemplo que não lança exceção\n"
      ],
      "metadata": {
        "id": "o_05pMigo-tR"
      },
      "execution_count": null,
      "outputs": []
    },
    {
      "cell_type": "code",
      "source": [
        "# Testando no exemplo que lança exceção\n"
      ],
      "metadata": {
        "id": "PWeHm6Fjo-at"
      },
      "execution_count": null,
      "outputs": []
    },
    {
      "cell_type": "markdown",
      "source": [
        "#### Questão 6\n",
        "\n",
        "Você está trabalhando com processamento de linguagem natural ([NLP](https://www.alura.com.br/artigos/guia-nlp-conceitos-tecnicas)) e, dessa vez, sua líder requisitou que você criasse um trecho de código que recebe uma lista com as palavras separadas de uma frase gerada pelo ChatGPT. \n",
        "\n",
        "Você precisa criar uma função que avalia cada palavra desse texto e verificar se o tratamento para retirar os símbolos de pontuação (',' '.', '!' e '?') foi realizado. Caso contrário, será lançada uma exceção do tipo **ValueError** apontando o 1º caso em que foi detectado o uso de uma pontuação por meio da frase `\"O texto apresenta pontuações na palavra \"[palavra]\".\"`.\n",
        "\n",
        "Essa demanda é voltada para a análise do padrão de frases geradas pela inteligência artificial.\n",
        "\n",
        "> Dica: Para verificar se uma ou mais das pontuações estão presentes em cada palavra, utilize a palavra chave `or` na condição if (Por exemplo, `('a' or 'b') in 'alura'` ... Saída: `True`) \n",
        "\n",
        "Os dados para o teste do código são:\n",
        "\n",
        "- **Lista tratada:**\n",
        "```\n",
        "lista_tratada = ['Python', 'é', 'uma', 'linguagem', 'de', 'programação', 'poderosa', 'versátil',\n",
        "                  'e', 'fácil', 'de', 'aprender', 'utilizada', 'em', 'diversos', 'campos', 'desde',\n",
        "                  'análise', 'de', 'dados', 'até', 'inteligência', 'artificial']\n",
        "```\n",
        "- **Lista não tratada:**\n",
        "```\n",
        "lista_nao_tratada = ['Python', 'é', 'uma', 'linguagem', 'de', 'programação', 'poderosa,', 'versátil',\n",
        "                  'e', 'fácil,', 'de', 'aprender', 'utilizada', 'em', 'diversos', 'campos,', 'desde',\n",
        "                  'análise', 'de', 'dados', 'até', 'inteligência', 'artificial!']\n",
        "```\n"
      ],
      "metadata": {
        "id": "AjQWxSIq28Ac"
      }
    },
    {
      "cell_type": "code",
      "source": [
        "# criando a função que recebe a lista de palavras\n"
      ],
      "metadata": {
        "id": "gxVg1sc_xACI"
      },
      "execution_count": null,
      "outputs": []
    },
    {
      "cell_type": "code",
      "source": [
        "# Testando no exemplo que não lança exceção\n"
      ],
      "metadata": {
        "id": "gDvOq79slmlJ"
      },
      "execution_count": null,
      "outputs": []
    },
    {
      "cell_type": "code",
      "source": [
        "# Testando no exemplo que lança exceção\n"
      ],
      "metadata": {
        "id": "PQADJf42woaw"
      },
      "execution_count": null,
      "outputs": []
    },
    {
      "cell_type": "markdown",
      "source": [
        "#### Questão 7\n",
        "Você foi contratado como uma pessoa cientista de dados para auxiliar um laboratório que faz experimentos sobre o comportamento de uma cultura de fungos. O laboratório precisa avaliar constantemente a razão (divisão) entre os dados de pressão e temperatura do ambiente controlado recolhidos durante a experimentação para definir a melhor condição para os testes.\n",
        "\n",
        "Para cumprir com a demanda, você precisa criar uma função `divide_colunas` que recebe os dados das colunas de pressão e temperatura (que vem no formato de listas) e gerar uma nova coluna com o resultado da divisão. Os parâmetros da função são as duas listas e você deve tratar dentro dela ao menos 2 tipos de exceções:   \n",
        "- Verificar se as listas têm o mesmo tamanho (ValueError)\n",
        "- Verificar se existe alguma divisão por zero (ZeroDivisionError)\n",
        "\n",
        "Para testar a função, vamos realizar a divisão entre duas listas de dados coletados no experimento, com os valores de pressão e temperatura do ambiente controlado. \n",
        "\n",
        "Como teste, use os seguintes dados:\n",
        "\n",
        "- **Dados sem exceção:**\n",
        "```\n",
        "pressoes = [100, 120, 140, 160, 180]\n",
        "temperaturas = [20, 25, 30, 35, 40]\n",
        "```\n",
        "- **Dados com exceção:**\n",
        "1. Exceção de ZeroDivisionError \n",
        "```\n",
        "pressoes = [60, 120, 140, 160, 180]\n",
        "temperaturas = [0, 25, 30, 35, 40]\n",
        "```\n",
        "2. Exceção de ValueError\n",
        "```\n",
        "pressoes = [100, 120, 140, 160]\n",
        "temperaturas = [20, 25, 30, 35, 40]\n",
        "```\n",
        "\n",
        "> Dica: Você pode usar `zip()` para parear os dados da lista_1 com a lista_2. Crie uma estrutura try-except que caso uma das exceções sejam lançadas, podemos ver o tipo de erro na saída.\n"
      ],
      "metadata": {
        "id": "3IhndsTyzdRq"
      }
    },
    {
      "cell_type": "code",
      "source": [],
      "metadata": {
        "id": "pYofyZVsuF2Y"
      },
      "execution_count": null,
      "outputs": []
    },
    {
      "cell_type": "code",
      "source": [
        "# Testando no exemplo que não lança exceção\n"
      ],
      "metadata": {
        "id": "gSvAEmxit1zI"
      },
      "execution_count": null,
      "outputs": []
    },
    {
      "cell_type": "code",
      "source": [
        "# Testando no exemplo que lança exceção (ZeroDivisionError)\n"
      ],
      "metadata": {
        "id": "bvebuMOot4ur"
      },
      "execution_count": null,
      "outputs": []
    },
    {
      "cell_type": "code",
      "source": [
        "# Testando no exemplo que lança exceção (ValueError)\n"
      ],
      "metadata": {
        "id": "sFsfTVHqt4d5"
      },
      "execution_count": null,
      "outputs": []
    }
  ]
}